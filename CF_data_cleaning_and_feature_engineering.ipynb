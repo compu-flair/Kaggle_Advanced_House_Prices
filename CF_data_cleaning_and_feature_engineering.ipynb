{
  "cells": [
    {
      "cell_type": "markdown",
      "metadata": {
        "id": "ADexMhkrUVPW"
      },
      "source": [
        "# 🏠 Notebook Overview\n",
        "\n",
        "This notebook provides a structured workflow for house price prediction using the [House Prices - Advanced Regression Techniques](https://www.kaggle.com/c/house-prices-advanced-regression-techniques).  \n",
        "\n",
        "Each section will be as follows:\n",
        "\n",
        "- 🏆 Kaggle Setup: \n",
        "- 📥 Data Loading and Initial Exploration\n",
        "- 🚨 Outlier Detection and Removal\n",
        "- 🔗 Data Combination for Preprocessing\n",
        "- 🧩 Missing Value Imputation\n",
        "- 🛠️ Feature Engineering\n",
        "- 📦 Final Data Preparation\n",
        "- 🤖 Models Training and Evaluation\n",
        "- 🏆 Kaggle Submission"
      ]
    },
    {
      "cell_type": "markdown",
      "metadata": {
        "id": "E7NNE13-UVPY"
      },
      "source": [
        "# Kaggle Setup\n",
        "## 📝 1 Create & Prep Your Account\n",
        "1. Go to https://www.kaggle.com and Sign Up / Log In.\n",
        "2. Complete profile (photo, short bio, location) – it increases trust when others view your notebooks.\n",
        "3. (Optional but good) Enable 2FA under Settings > Account.\n",
        "\n",
        "## 📜 2 Accept Competition Rules\n",
        "Before you can download data you MUST open the competition page and click: Join Competition / I Understand & Accept. Do this for every new competition (even “Getting Started” ones) or the API will return 403 errors.\n",
        "\n",
        "## 🔑 3 Generate an API Token\n",
        "1. Click your profile avatar (top-right) → Settings.\n",
        "2. Scroll to “API” section → Create New Token.\n",
        "3. This downloads `kaggle.json` (contains username + key). Keep it private.\n",
        "4. Upload `kaggle.json` to your environment and follow the steps below.\n",
        "5. Move `kaggle.json` to the location `~/.kaggle/kaggle.json`, sometimes `~/.config/kaggle/kaggle.json` (Linux/Mac) or `C:\\Users\\<Windows-username>\\.kaggle\\kaggle.json` (Windows).\n",
        "6. Set file permissions to read-only: `chmod 600 ~/.kaggle/kaggle.json`.\n"
      ]
    },
    {
      "cell_type": "markdown",
      "metadata": {
        "id": "xPdHJZFAUVPZ"
      },
      "source": [
        "## 📊 Downloading Data\n",
        "\n",
        "The following uses kaggle command line tool to download the data. If you have already downloaded the data, you can skip this step."
      ]
    },
    {
      "cell_type": "code",
      "execution_count": 1,
      "metadata": {
        "colab": {
          "base_uri": "https://localhost:8080/"
        },
        "id": "-Ov8NLubUVPZ",
        "outputId": "66e6ff67-dec8-408f-d1ef-3a93ce223a60"
      },
      "outputs": [
        {
          "name": "stdout",
          "output_type": "stream",
          "text": [
            "house-prices-advanced-regression-techniques.zip: Skipping, found more recently modified local copy (use --force to force download)\n"
          ]
        }
      ],
      "source": [
        "!kaggle competitions download -c house-prices-advanced-regression-techniques -p data"
      ]
    },
    {
      "cell_type": "markdown",
      "metadata": {
        "id": "A5Qf_oPdUVPZ"
      },
      "source": [
        "The following cell unzips the downloaded files. If you have already unzipped the files, you can skip this step."
      ]
    },
    {
      "cell_type": "code",
      "execution_count": 2,
      "metadata": {
        "id": "zJMfVk8dUVPa"
      },
      "outputs": [],
      "source": [
        "import zipfile\n",
        "import os\n",
        "with zipfile.ZipFile(os.path.join('data','house-prices-advanced-regression-techniques.zip'), 'r') as zip_ref:\n",
        "    zip_ref.extractall('data')"
      ]
    },
    {
      "cell_type": "markdown",
      "metadata": {
        "id": "RZBWXNaBUVPa"
      },
      "source": [
        "Import necessary libraries."
      ]
    },
    {
      "cell_type": "code",
      "execution_count": 3,
      "metadata": {
        "id": "P50PnqLkUVPa"
      },
      "outputs": [],
      "source": [
        "# Import pandas for data manipulation and analysis\n",
        "import pandas as pd\n",
        "\n",
        "# Import numpy for numerical operations and array handling\n",
        "import numpy as np\n",
        "# Import matplotlib for plotting and visualizations\n",
        "import matplotlib.pyplot as plt\n",
        "# Import seaborn for statistical data visualization (built on top of matplotlib)\n",
        "import seaborn as sns\n",
        "\n",
        "# Set seaborn plot style to 'whitegrid' for better readability of plots\n",
        "sns.set_style('whitegrid')\n",
        "# Enable inline plotting in Jupyter Notebook so plots appear in the output cells\n",
        "%matplotlib inline\n",
        "\n",
        "# Import display from IPython to display DataFrames and other objects in a readable format\n",
        "from IPython.display import display\n",
        "\n",
        "# Import warnings module to control warning messages\n",
        "import warnings\n",
        "# Ignore all warnings to keep notebook output clean and focused\n",
        "warnings.filterwarnings('ignore')"
      ]
    },
    {
      "cell_type": "markdown",
      "metadata": {
        "id": "rNrB-An2UVPa"
      },
      "source": [
        "## 📊 Data loading\n",
        "Load the dataset and display the first few rows to get an initial understanding of the data structure."
      ]
    },
    {
      "cell_type": "code",
      "execution_count": 4,
      "metadata": {
        "colab": {
          "base_uri": "https://localhost:8080/",
          "height": 258
        },
        "id": "n6kPYWZ1UVPa",
        "outputId": "cb236a3d-2593-4579-a41f-00bac16ef1bd",
        "scrolled": true
      },
      "outputs": [
        {
          "name": "stdout",
          "output_type": "stream",
          "text": [
            "(1460, 81)\n"
          ]
        },
        {
          "data": {
            "text/html": [
              "<div>\n",
              "<style scoped>\n",
              "    .dataframe tbody tr th:only-of-type {\n",
              "        vertical-align: middle;\n",
              "    }\n",
              "\n",
              "    .dataframe tbody tr th {\n",
              "        vertical-align: top;\n",
              "    }\n",
              "\n",
              "    .dataframe thead th {\n",
              "        text-align: right;\n",
              "    }\n",
              "</style>\n",
              "<table border=\"1\" class=\"dataframe\">\n",
              "  <thead>\n",
              "    <tr style=\"text-align: right;\">\n",
              "      <th></th>\n",
              "      <th>Id</th>\n",
              "      <th>MSSubClass</th>\n",
              "      <th>MSZoning</th>\n",
              "      <th>LotFrontage</th>\n",
              "      <th>LotArea</th>\n",
              "      <th>Street</th>\n",
              "      <th>Alley</th>\n",
              "      <th>LotShape</th>\n",
              "      <th>LandContour</th>\n",
              "      <th>Utilities</th>\n",
              "      <th>...</th>\n",
              "      <th>PoolArea</th>\n",
              "      <th>PoolQC</th>\n",
              "      <th>Fence</th>\n",
              "      <th>MiscFeature</th>\n",
              "      <th>MiscVal</th>\n",
              "      <th>MoSold</th>\n",
              "      <th>YrSold</th>\n",
              "      <th>SaleType</th>\n",
              "      <th>SaleCondition</th>\n",
              "      <th>SalePrice</th>\n",
              "    </tr>\n",
              "  </thead>\n",
              "  <tbody>\n",
              "    <tr>\n",
              "      <th>0</th>\n",
              "      <td>1</td>\n",
              "      <td>60</td>\n",
              "      <td>RL</td>\n",
              "      <td>65.0</td>\n",
              "      <td>8450</td>\n",
              "      <td>Pave</td>\n",
              "      <td>NaN</td>\n",
              "      <td>Reg</td>\n",
              "      <td>Lvl</td>\n",
              "      <td>AllPub</td>\n",
              "      <td>...</td>\n",
              "      <td>0</td>\n",
              "      <td>NaN</td>\n",
              "      <td>NaN</td>\n",
              "      <td>NaN</td>\n",
              "      <td>0</td>\n",
              "      <td>2</td>\n",
              "      <td>2008</td>\n",
              "      <td>WD</td>\n",
              "      <td>Normal</td>\n",
              "      <td>208500</td>\n",
              "    </tr>\n",
              "    <tr>\n",
              "      <th>1</th>\n",
              "      <td>2</td>\n",
              "      <td>20</td>\n",
              "      <td>RL</td>\n",
              "      <td>80.0</td>\n",
              "      <td>9600</td>\n",
              "      <td>Pave</td>\n",
              "      <td>NaN</td>\n",
              "      <td>Reg</td>\n",
              "      <td>Lvl</td>\n",
              "      <td>AllPub</td>\n",
              "      <td>...</td>\n",
              "      <td>0</td>\n",
              "      <td>NaN</td>\n",
              "      <td>NaN</td>\n",
              "      <td>NaN</td>\n",
              "      <td>0</td>\n",
              "      <td>5</td>\n",
              "      <td>2007</td>\n",
              "      <td>WD</td>\n",
              "      <td>Normal</td>\n",
              "      <td>181500</td>\n",
              "    </tr>\n",
              "    <tr>\n",
              "      <th>2</th>\n",
              "      <td>3</td>\n",
              "      <td>60</td>\n",
              "      <td>RL</td>\n",
              "      <td>68.0</td>\n",
              "      <td>11250</td>\n",
              "      <td>Pave</td>\n",
              "      <td>NaN</td>\n",
              "      <td>IR1</td>\n",
              "      <td>Lvl</td>\n",
              "      <td>AllPub</td>\n",
              "      <td>...</td>\n",
              "      <td>0</td>\n",
              "      <td>NaN</td>\n",
              "      <td>NaN</td>\n",
              "      <td>NaN</td>\n",
              "      <td>0</td>\n",
              "      <td>9</td>\n",
              "      <td>2008</td>\n",
              "      <td>WD</td>\n",
              "      <td>Normal</td>\n",
              "      <td>223500</td>\n",
              "    </tr>\n",
              "    <tr>\n",
              "      <th>3</th>\n",
              "      <td>4</td>\n",
              "      <td>70</td>\n",
              "      <td>RL</td>\n",
              "      <td>60.0</td>\n",
              "      <td>9550</td>\n",
              "      <td>Pave</td>\n",
              "      <td>NaN</td>\n",
              "      <td>IR1</td>\n",
              "      <td>Lvl</td>\n",
              "      <td>AllPub</td>\n",
              "      <td>...</td>\n",
              "      <td>0</td>\n",
              "      <td>NaN</td>\n",
              "      <td>NaN</td>\n",
              "      <td>NaN</td>\n",
              "      <td>0</td>\n",
              "      <td>2</td>\n",
              "      <td>2006</td>\n",
              "      <td>WD</td>\n",
              "      <td>Abnorml</td>\n",
              "      <td>140000</td>\n",
              "    </tr>\n",
              "    <tr>\n",
              "      <th>4</th>\n",
              "      <td>5</td>\n",
              "      <td>60</td>\n",
              "      <td>RL</td>\n",
              "      <td>84.0</td>\n",
              "      <td>14260</td>\n",
              "      <td>Pave</td>\n",
              "      <td>NaN</td>\n",
              "      <td>IR1</td>\n",
              "      <td>Lvl</td>\n",
              "      <td>AllPub</td>\n",
              "      <td>...</td>\n",
              "      <td>0</td>\n",
              "      <td>NaN</td>\n",
              "      <td>NaN</td>\n",
              "      <td>NaN</td>\n",
              "      <td>0</td>\n",
              "      <td>12</td>\n",
              "      <td>2008</td>\n",
              "      <td>WD</td>\n",
              "      <td>Normal</td>\n",
              "      <td>250000</td>\n",
              "    </tr>\n",
              "  </tbody>\n",
              "</table>\n",
              "<p>5 rows × 81 columns</p>\n",
              "</div>"
            ],
            "text/plain": [
              "   Id  MSSubClass MSZoning  LotFrontage  LotArea Street Alley LotShape  \\\n",
              "0   1          60       RL         65.0     8450   Pave   NaN      Reg   \n",
              "1   2          20       RL         80.0     9600   Pave   NaN      Reg   \n",
              "2   3          60       RL         68.0    11250   Pave   NaN      IR1   \n",
              "3   4          70       RL         60.0     9550   Pave   NaN      IR1   \n",
              "4   5          60       RL         84.0    14260   Pave   NaN      IR1   \n",
              "\n",
              "  LandContour Utilities  ... PoolArea PoolQC Fence MiscFeature MiscVal MoSold  \\\n",
              "0         Lvl    AllPub  ...        0    NaN   NaN         NaN       0      2   \n",
              "1         Lvl    AllPub  ...        0    NaN   NaN         NaN       0      5   \n",
              "2         Lvl    AllPub  ...        0    NaN   NaN         NaN       0      9   \n",
              "3         Lvl    AllPub  ...        0    NaN   NaN         NaN       0      2   \n",
              "4         Lvl    AllPub  ...        0    NaN   NaN         NaN       0     12   \n",
              "\n",
              "  YrSold  SaleType  SaleCondition  SalePrice  \n",
              "0   2008        WD         Normal     208500  \n",
              "1   2007        WD         Normal     181500  \n",
              "2   2008        WD         Normal     223500  \n",
              "3   2006        WD        Abnorml     140000  \n",
              "4   2008        WD         Normal     250000  \n",
              "\n",
              "[5 rows x 81 columns]"
            ]
          },
          "metadata": {},
          "output_type": "display_data"
        },
        {
          "name": "stdout",
          "output_type": "stream",
          "text": [
            "(1459, 80)\n"
          ]
        },
        {
          "data": {
            "text/html": [
              "<div>\n",
              "<style scoped>\n",
              "    .dataframe tbody tr th:only-of-type {\n",
              "        vertical-align: middle;\n",
              "    }\n",
              "\n",
              "    .dataframe tbody tr th {\n",
              "        vertical-align: top;\n",
              "    }\n",
              "\n",
              "    .dataframe thead th {\n",
              "        text-align: right;\n",
              "    }\n",
              "</style>\n",
              "<table border=\"1\" class=\"dataframe\">\n",
              "  <thead>\n",
              "    <tr style=\"text-align: right;\">\n",
              "      <th></th>\n",
              "      <th>Id</th>\n",
              "      <th>MSSubClass</th>\n",
              "      <th>MSZoning</th>\n",
              "      <th>LotFrontage</th>\n",
              "      <th>LotArea</th>\n",
              "      <th>Street</th>\n",
              "      <th>Alley</th>\n",
              "      <th>LotShape</th>\n",
              "      <th>LandContour</th>\n",
              "      <th>Utilities</th>\n",
              "      <th>...</th>\n",
              "      <th>ScreenPorch</th>\n",
              "      <th>PoolArea</th>\n",
              "      <th>PoolQC</th>\n",
              "      <th>Fence</th>\n",
              "      <th>MiscFeature</th>\n",
              "      <th>MiscVal</th>\n",
              "      <th>MoSold</th>\n",
              "      <th>YrSold</th>\n",
              "      <th>SaleType</th>\n",
              "      <th>SaleCondition</th>\n",
              "    </tr>\n",
              "  </thead>\n",
              "  <tbody>\n",
              "    <tr>\n",
              "      <th>0</th>\n",
              "      <td>1461</td>\n",
              "      <td>20</td>\n",
              "      <td>RH</td>\n",
              "      <td>80.0</td>\n",
              "      <td>11622</td>\n",
              "      <td>Pave</td>\n",
              "      <td>NaN</td>\n",
              "      <td>Reg</td>\n",
              "      <td>Lvl</td>\n",
              "      <td>AllPub</td>\n",
              "      <td>...</td>\n",
              "      <td>120</td>\n",
              "      <td>0</td>\n",
              "      <td>NaN</td>\n",
              "      <td>MnPrv</td>\n",
              "      <td>NaN</td>\n",
              "      <td>0</td>\n",
              "      <td>6</td>\n",
              "      <td>2010</td>\n",
              "      <td>WD</td>\n",
              "      <td>Normal</td>\n",
              "    </tr>\n",
              "    <tr>\n",
              "      <th>1</th>\n",
              "      <td>1462</td>\n",
              "      <td>20</td>\n",
              "      <td>RL</td>\n",
              "      <td>81.0</td>\n",
              "      <td>14267</td>\n",
              "      <td>Pave</td>\n",
              "      <td>NaN</td>\n",
              "      <td>IR1</td>\n",
              "      <td>Lvl</td>\n",
              "      <td>AllPub</td>\n",
              "      <td>...</td>\n",
              "      <td>0</td>\n",
              "      <td>0</td>\n",
              "      <td>NaN</td>\n",
              "      <td>NaN</td>\n",
              "      <td>Gar2</td>\n",
              "      <td>12500</td>\n",
              "      <td>6</td>\n",
              "      <td>2010</td>\n",
              "      <td>WD</td>\n",
              "      <td>Normal</td>\n",
              "    </tr>\n",
              "    <tr>\n",
              "      <th>2</th>\n",
              "      <td>1463</td>\n",
              "      <td>60</td>\n",
              "      <td>RL</td>\n",
              "      <td>74.0</td>\n",
              "      <td>13830</td>\n",
              "      <td>Pave</td>\n",
              "      <td>NaN</td>\n",
              "      <td>IR1</td>\n",
              "      <td>Lvl</td>\n",
              "      <td>AllPub</td>\n",
              "      <td>...</td>\n",
              "      <td>0</td>\n",
              "      <td>0</td>\n",
              "      <td>NaN</td>\n",
              "      <td>MnPrv</td>\n",
              "      <td>NaN</td>\n",
              "      <td>0</td>\n",
              "      <td>3</td>\n",
              "      <td>2010</td>\n",
              "      <td>WD</td>\n",
              "      <td>Normal</td>\n",
              "    </tr>\n",
              "    <tr>\n",
              "      <th>3</th>\n",
              "      <td>1464</td>\n",
              "      <td>60</td>\n",
              "      <td>RL</td>\n",
              "      <td>78.0</td>\n",
              "      <td>9978</td>\n",
              "      <td>Pave</td>\n",
              "      <td>NaN</td>\n",
              "      <td>IR1</td>\n",
              "      <td>Lvl</td>\n",
              "      <td>AllPub</td>\n",
              "      <td>...</td>\n",
              "      <td>0</td>\n",
              "      <td>0</td>\n",
              "      <td>NaN</td>\n",
              "      <td>NaN</td>\n",
              "      <td>NaN</td>\n",
              "      <td>0</td>\n",
              "      <td>6</td>\n",
              "      <td>2010</td>\n",
              "      <td>WD</td>\n",
              "      <td>Normal</td>\n",
              "    </tr>\n",
              "    <tr>\n",
              "      <th>4</th>\n",
              "      <td>1465</td>\n",
              "      <td>120</td>\n",
              "      <td>RL</td>\n",
              "      <td>43.0</td>\n",
              "      <td>5005</td>\n",
              "      <td>Pave</td>\n",
              "      <td>NaN</td>\n",
              "      <td>IR1</td>\n",
              "      <td>HLS</td>\n",
              "      <td>AllPub</td>\n",
              "      <td>...</td>\n",
              "      <td>144</td>\n",
              "      <td>0</td>\n",
              "      <td>NaN</td>\n",
              "      <td>NaN</td>\n",
              "      <td>NaN</td>\n",
              "      <td>0</td>\n",
              "      <td>1</td>\n",
              "      <td>2010</td>\n",
              "      <td>WD</td>\n",
              "      <td>Normal</td>\n",
              "    </tr>\n",
              "  </tbody>\n",
              "</table>\n",
              "<p>5 rows × 80 columns</p>\n",
              "</div>"
            ],
            "text/plain": [
              "     Id  MSSubClass MSZoning  LotFrontage  LotArea Street Alley LotShape  \\\n",
              "0  1461          20       RH         80.0    11622   Pave   NaN      Reg   \n",
              "1  1462          20       RL         81.0    14267   Pave   NaN      IR1   \n",
              "2  1463          60       RL         74.0    13830   Pave   NaN      IR1   \n",
              "3  1464          60       RL         78.0     9978   Pave   NaN      IR1   \n",
              "4  1465         120       RL         43.0     5005   Pave   NaN      IR1   \n",
              "\n",
              "  LandContour Utilities  ... ScreenPorch PoolArea PoolQC  Fence MiscFeature  \\\n",
              "0         Lvl    AllPub  ...         120        0    NaN  MnPrv         NaN   \n",
              "1         Lvl    AllPub  ...           0        0    NaN    NaN        Gar2   \n",
              "2         Lvl    AllPub  ...           0        0    NaN  MnPrv         NaN   \n",
              "3         Lvl    AllPub  ...           0        0    NaN    NaN         NaN   \n",
              "4         HLS    AllPub  ...         144        0    NaN    NaN         NaN   \n",
              "\n",
              "  MiscVal MoSold  YrSold  SaleType  SaleCondition  \n",
              "0       0      6    2010        WD         Normal  \n",
              "1   12500      6    2010        WD         Normal  \n",
              "2       0      3    2010        WD         Normal  \n",
              "3       0      6    2010        WD         Normal  \n",
              "4       0      1    2010        WD         Normal  \n",
              "\n",
              "[5 rows x 80 columns]"
            ]
          },
          "metadata": {},
          "output_type": "display_data"
        }
      ],
      "source": [
        "# Load training and test datasets from CSV files\n",
        "train_data = pd.read_csv(os.path.join('data', 'train.csv'))\n",
        "test_data = pd.read_csv(os.path.join('data', 'test.csv'))\n",
        "\n",
        "# Print the shape (number of rows and columns) of the training data\n",
        "print(train_data.shape)\n",
        "# Display the first row of the training data for a quick preview\n",
        "display(train_data.head(5))\n",
        "# Uncomment the next line to display detailed info about training data columns and types\n",
        "# display(train_data.info())\n",
        "\n",
        "# Print the shape of the test data\n",
        "print(test_data.shape)\n",
        "# Display the first row of the test data for a quick preview\n",
        "display(test_data.head(5))\n",
        "# Uncomment the next line to display detailed info about test data columns and types\n",
        "# display(test_data.info())"
      ]
    },
    {
      "cell_type": "code",
      "execution_count": 5,
      "metadata": {},
      "outputs": [],
      "source": [
        "train_data.drop('Id', axis=1, inplace=True)\n",
        "test_data.drop('Id', axis=1, inplace=True)"
      ]
    },
    {
      "cell_type": "markdown",
      "metadata": {
        "id": "WxO4vXzIUVPb"
      },
      "source": [
        "## 📊 Data Preparation\n",
        "\n",
        "## Outlier Detection and Removal\n",
        "\n",
        "- **Why Outlier Detection Matters:**  \n",
        "  - 🚨 Outlier detection is essential for building robust predictive models.\n",
        "  - 🚨 Some outliers can distort statistical analyses, bias model training, and reduce generalizability to unseen data. **Most outliers belong to this group and must be removed.**\n",
        "  - 🚨 Some outliers are significant data that we are after to detect\n",
        "\n",
        "- **Approach:**  \n",
        "  - 🔍 By identifying and removing extreme values that do not exist in the test set, we ensure the model learns patterns representative of the real-world data distribution.\n",
        "\n",
        "- **Benefits:**  \n",
        "  - ✅ Improves accuracy and reliability of predictions  \n",
        "  - ✅ Prevents overfitting  \n",
        "  - ✅ Enhances interpretability of downstream analyses"
      ]
    },
    {
      "cell_type": "code",
      "execution_count": 6,
      "metadata": {
        "colab": {
          "base_uri": "https://localhost:8080/",
          "height": 449
        },
        "id": "n99DudytRLBa",
        "outputId": "8427a5f9-8864-4653-9f44-4d475013333f"
      },
      "outputs": [
        {
          "data": {
            "image/png": "[encoded data removed]",
            "text/plain": [
              "<Figure size 640x480 with 1 Axes>"
            ]
          },
          "metadata": {},
          "output_type": "display_data"
        }
      ],
      "source": [
        "# Explanation:\n",
        "# - This code visualizes the distribution of some of the features for both train and test datasets.\n",
        "# - It helps to identify outliers and compare distributions between train and test sets.\n",
        "\n",
        "# Plot the kernel density estimate (KDE) for the MasVnrArea column in the training data. MasVnrArea refers to Masonry veneer area in square feet\n",
        "test_column = 'MasVnrArea'\n",
        "sns.kdeplot(train_data[test_column])\n",
        "sns.kdeplot(test_data[test_column])\n",
        "plt.show()"
      ]
    },
    {
      "cell_type": "markdown",
      "metadata": {
        "id": "angumXL1uWlR"
      },
      "source": [
        "### 📊 Checking for outliers in MasVnrArea\n",
        "### Most values are clustered below ~1000 (see density plot 📈), so anything above 1500 is very rare 🚩.\n",
        "### We print how many such extreme values exist in train and test sets to decide if they need special handling 🛠️.\n",
        "\n"
      ]
    },
    {
      "cell_type": "code",
      "execution_count": 7,
      "metadata": {
        "colab": {
          "base_uri": "https://localhost:8080/"
        },
        "id": "c542mVg8RSJt",
        "outputId": "4733deb1-9c32-4c71-ddc5-e0be6718c34f"
      },
      "outputs": [
        {
          "name": "stdout",
          "output_type": "stream",
          "text": [
            "train: (1,)\n",
            "test: (0,)\n"
          ]
        }
      ],
      "source": [
        "# Print the number of records in the training set where MasVnrArea > 1500 (potential outliers)\n",
        "print('train:', train_data[test_column][train_data[test_column] > 1500].shape)\n",
        "# Print the number of records in the test set where MasVnrArea > 1500 (potential outliers)\n",
        "print('test:', test_data[test_column][test_data[test_column] > 1500].shape)"
      ]
    },
    {
      "cell_type": "code",
      "execution_count": 8,
      "metadata": {
        "colab": {
          "base_uri": "https://localhost:8080/",
          "height": 449
        },
        "id": "U_6_uz5BRKVN",
        "outputId": "ba328f26-1c93-4337-ae7b-ada30f4ed44c"
      },
      "outputs": [
        {
          "data": {
            "image/png": "[encoded data removed]",
            "text/plain": [
              "<Figure size 640x480 with 1 Axes>"
            ]
          },
          "metadata": {},
          "output_type": "display_data"
        }
      ],
      "source": [
        "# Explanation:\n",
        "# - This code visualizes the distribution of LotFrontage feature for both train and test datasets.\n",
        "\n",
        "# Plot the KDE for the MasVnrArea column in the test data\n",
        "test_column = 'LotFrontage'\n",
        "sns.kdeplot(train_data[test_column])\n",
        "sns.kdeplot(test_data[test_column])\n",
        "plt.show()"
      ]
    },
    {
      "cell_type": "code",
      "execution_count": 9,
      "metadata": {
        "colab": {
          "base_uri": "https://localhost:8080/",
          "height": 449
        },
        "id": "LNp1B95ZUVPb",
        "outputId": "f22298f6-2602-4599-9096-bb93814fb260"
      },
      "outputs": [
        {
          "data": {
            "image/png": "[encoded data removed]",
            "text/plain": [
              "<Figure size 640x480 with 1 Axes>"
            ]
          },
          "metadata": {},
          "output_type": "display_data"
        }
      ],
      "source": [
        "# Explanation:\n",
        "# - This code visualizes the distribution of LotArea feature for both train and test datasets.\n",
        "\n",
        "\n",
        "# Plot the KDE for the MasVnrArea column in the test data\n",
        "test_column = 'LotArea'\n",
        "sns.kdeplot(train_data[test_column])\n",
        "sns.kdeplot(test_data[test_column])\n",
        "plt.show()"
      ]
    },
    {
      "cell_type": "markdown",
      "metadata": {
        "id": "o6S4zZNHUVPb"
      },
      "source": [
        "### 🚀 Outlier Removal\n",
        "\n",
        "We remove extreme values in **LotFrontage**, **LotArea**, and **MasVnrArea** from the training set because such unusual cases do not exist in the data set.\n",
        "This ensures the model doesn’t learn patterns that won’t generalize well. ✅\n",
        "\n",
        "* **LotFrontage > 200** 🏡\n",
        "* **LotArea > 70,000** 🌍\n",
        "* **MasVnrArea > 1500** 🧱\n",
        "\n",
        "The `shape` print statements show how many records were removed 📉, and `train_length` is updated to reflect the new size of the training set 📊.\n"
      ]
    },
    {
      "cell_type": "code",
      "execution_count": null,
      "metadata": {
        "colab": {
          "base_uri": "https://localhost:8080/"
        },
        "id": "N3kX8qO8UVPc",
        "outputId": "03212d8c-fcdc-4165-dbce-fb5cd3eb62c0"
      },
      "outputs": [
        {
          "name": "stdout",
          "output_type": "stream",
          "text": [
            "(1460, 80)\n",
            "(1460, 80)\n"
          ]
        }
      ],
      "source": [
        "\n",
        "# Print the shape of the training data before removing outliers\n",
        "print(train_data.shape)\n",
        "\n",
        "# # Remove records from train_data where LotFrontage > 200 (outliers not present in test set)\n",
        "# train_data.drop(train_data[train_data[\"LotFrontage\"] > 200].index, inplace=True)\n",
        "\n",
        "# # Remove records from train_data where LotArea > 70000 (outliers not present in test set)\n",
        "# train_data.drop(train_data[train_data[\"LotArea\"] > 70000].index, inplace=True)\n",
        "\n",
        "# # Remove records from train_data where MasVnrArea > 1500 (outliers not present in test set)\n",
        "# train_data.drop(train_data[train_data[\"MasVnrArea\"] > 1500].index, inplace=True)\n",
        "\n",
        "# Print the shape of the training data after removing outliers\n",
        "print(train_data.shape)\n",
        "\n",
        "# Store the updated number of records in train_data after outlier removal\n",
        "train_length = train_data.shape[0]"
      ]
    },
    {
      "cell_type": "markdown",
      "metadata": {
        "id": "szaxFpSsUVPc"
      },
      "source": [
        "## Data Combination for Preprocessing\n",
        "\n",
        "- 🔄 **Why Combine Datasets?**  \n",
        "    Combining training and test datasets before preprocessing ensures that all transformations—such as missing value imputation, encoding, and feature engineering—are applied consistently. This unified approach prevents discrepancies and data leakage, maintaining data integrity.\n",
        "\n",
        "- 🧩 **Benefits:**  \n",
        "    - Consistent feature transformations  \n",
        "    - Improved model generalizability  \n",
        "    - Avoids data leakage between train and test sets  \n",
        "    - Simplifies workflow for downstream modeling\n",
        "\n",
        "- 🚀 **Summary:**  \n",
        "    By processing train and test data together, we ensure that the model is trained and evaluated on data that has undergone identical preprocessing steps."
      ]
    },
    {
      "cell_type": "code",
      "execution_count": 11,
      "metadata": {
        "colab": {
          "base_uri": "https://localhost:8080/",
          "height": 147
        },
        "id": "Kmg3PZrzUVPc",
        "outputId": "eb23be31-2f11-4373-98a1-02ee6ff7dbbf"
      },
      "outputs": [
        {
          "data": {
            "text/html": [
              "<div>\n",
              "<style scoped>\n",
              "    .dataframe tbody tr th:only-of-type {\n",
              "        vertical-align: middle;\n",
              "    }\n",
              "\n",
              "    .dataframe tbody tr th {\n",
              "        vertical-align: top;\n",
              "    }\n",
              "\n",
              "    .dataframe thead th {\n",
              "        text-align: right;\n",
              "    }\n",
              "</style>\n",
              "<table border=\"1\" class=\"dataframe\">\n",
              "  <thead>\n",
              "    <tr style=\"text-align: right;\">\n",
              "      <th></th>\n",
              "      <th>MSSubClass</th>\n",
              "      <th>MSZoning</th>\n",
              "      <th>LotFrontage</th>\n",
              "      <th>LotArea</th>\n",
              "      <th>Street</th>\n",
              "      <th>Alley</th>\n",
              "      <th>LotShape</th>\n",
              "      <th>LandContour</th>\n",
              "      <th>Utilities</th>\n",
              "      <th>LotConfig</th>\n",
              "      <th>...</th>\n",
              "      <th>ScreenPorch</th>\n",
              "      <th>PoolArea</th>\n",
              "      <th>PoolQC</th>\n",
              "      <th>Fence</th>\n",
              "      <th>MiscFeature</th>\n",
              "      <th>MiscVal</th>\n",
              "      <th>MoSold</th>\n",
              "      <th>YrSold</th>\n",
              "      <th>SaleType</th>\n",
              "      <th>SaleCondition</th>\n",
              "    </tr>\n",
              "  </thead>\n",
              "  <tbody>\n",
              "    <tr>\n",
              "      <th>0</th>\n",
              "      <td>60</td>\n",
              "      <td>RL</td>\n",
              "      <td>65.0</td>\n",
              "      <td>8450</td>\n",
              "      <td>Pave</td>\n",
              "      <td>NaN</td>\n",
              "      <td>Reg</td>\n",
              "      <td>Lvl</td>\n",
              "      <td>AllPub</td>\n",
              "      <td>Inside</td>\n",
              "      <td>...</td>\n",
              "      <td>0</td>\n",
              "      <td>0</td>\n",
              "      <td>NaN</td>\n",
              "      <td>NaN</td>\n",
              "      <td>NaN</td>\n",
              "      <td>0</td>\n",
              "      <td>2</td>\n",
              "      <td>2008</td>\n",
              "      <td>WD</td>\n",
              "      <td>Normal</td>\n",
              "    </tr>\n",
              "    <tr>\n",
              "      <th>1</th>\n",
              "      <td>20</td>\n",
              "      <td>RL</td>\n",
              "      <td>80.0</td>\n",
              "      <td>9600</td>\n",
              "      <td>Pave</td>\n",
              "      <td>NaN</td>\n",
              "      <td>Reg</td>\n",
              "      <td>Lvl</td>\n",
              "      <td>AllPub</td>\n",
              "      <td>FR2</td>\n",
              "      <td>...</td>\n",
              "      <td>0</td>\n",
              "      <td>0</td>\n",
              "      <td>NaN</td>\n",
              "      <td>NaN</td>\n",
              "      <td>NaN</td>\n",
              "      <td>0</td>\n",
              "      <td>5</td>\n",
              "      <td>2007</td>\n",
              "      <td>WD</td>\n",
              "      <td>Normal</td>\n",
              "    </tr>\n",
              "    <tr>\n",
              "      <th>2</th>\n",
              "      <td>60</td>\n",
              "      <td>RL</td>\n",
              "      <td>68.0</td>\n",
              "      <td>11250</td>\n",
              "      <td>Pave</td>\n",
              "      <td>NaN</td>\n",
              "      <td>IR1</td>\n",
              "      <td>Lvl</td>\n",
              "      <td>AllPub</td>\n",
              "      <td>Inside</td>\n",
              "      <td>...</td>\n",
              "      <td>0</td>\n",
              "      <td>0</td>\n",
              "      <td>NaN</td>\n",
              "      <td>NaN</td>\n",
              "      <td>NaN</td>\n",
              "      <td>0</td>\n",
              "      <td>9</td>\n",
              "      <td>2008</td>\n",
              "      <td>WD</td>\n",
              "      <td>Normal</td>\n",
              "    </tr>\n",
              "  </tbody>\n",
              "</table>\n",
              "<p>3 rows × 79 columns</p>\n",
              "</div>"
            ],
            "text/plain": [
              "   MSSubClass MSZoning  LotFrontage  LotArea Street Alley LotShape  \\\n",
              "0          60       RL         65.0     8450   Pave   NaN      Reg   \n",
              "1          20       RL         80.0     9600   Pave   NaN      Reg   \n",
              "2          60       RL         68.0    11250   Pave   NaN      IR1   \n",
              "\n",
              "  LandContour Utilities LotConfig  ... ScreenPorch PoolArea PoolQC Fence  \\\n",
              "0         Lvl    AllPub    Inside  ...           0        0    NaN   NaN   \n",
              "1         Lvl    AllPub       FR2  ...           0        0    NaN   NaN   \n",
              "2         Lvl    AllPub    Inside  ...           0        0    NaN   NaN   \n",
              "\n",
              "  MiscFeature MiscVal  MoSold  YrSold  SaleType  SaleCondition  \n",
              "0         NaN       0       2    2008        WD         Normal  \n",
              "1         NaN       0       5    2007        WD         Normal  \n",
              "2         NaN       0       9    2008        WD         Normal  \n",
              "\n",
              "[3 rows x 79 columns]"
            ]
          },
          "metadata": {},
          "output_type": "display_data"
        },
        {
          "name": "stdout",
          "output_type": "stream",
          "text": [
            "(2919, 79)\n"
          ]
        }
      ],
      "source": [
        "# Combine train and test datasets for feature engineering and preprocessing.\n",
        "# - The first line concatenates the training data (up to and including 'SalePrice') and the test data.\n",
        "# - This is useful for applying transformations (like encoding or imputing missing values) consistently across both datasets.\n",
        "combined_data = pd.concat([train_data.loc[:, : 'SalePrice'], test_data])\n",
        "\n",
        "# Align columns to match the test_data structure.\n",
        "# - This ensures that combined_data has the same columns as test_data, which is important for making predictions later.\n",
        "combined_data = combined_data[test_data.columns]\n",
        "\n",
        "# Display the first row of the combined dataset for a quick preview.\n",
        "display(combined_data.head(3))\n",
        "\n",
        "# Print the shape (number of rows and columns) of the combined dataset.\n",
        "print(combined_data.shape)"
      ]
    },
    {
      "cell_type": "markdown",
      "metadata": {
        "id": "opf-9pVoUVPc"
      },
      "source": [
        "## Missing Value Imputation\n",
        "\n",
        "Missing value imputation is a crucial step in any data preprocessing workflow.  \n",
        "- 🛡️ **Ensures Data Integrity:** Handling missing values prevents errors and inconsistencies during analysis and modeling.\n",
        "- 📈 **Improves Model Performance:** Proper imputation strategies help models learn from complete data, reducing bias and variance.\n",
        "- 🧠 **Preserves Information:** Thoughtful imputation (using domain knowledge or feature relationships) retains as much useful information as possible.\n",
        "- 🚀 **Enables Feature Engineering:** Clean, imputed data allows for robust feature creation and transformation in later steps.\n",
        "\n",
        "By addressing missing values systematically, we build a solid foundation for accurate and reliable predictive modeling."
      ]
    },
    {
      "cell_type": "code",
      "execution_count": 12,
      "metadata": {
        "colab": {
          "base_uri": "https://localhost:8080/",
          "height": 210
        },
        "id": "WXSVq4fcUVPc",
        "outputId": "fb1e8ca3-d357-4bf9-81c4-5778ae0aed95"
      },
      "outputs": [
        {
          "name": "stdout",
          "output_type": "stream",
          "text": [
            "how many data missed each column of train/test/conbine datas\n"
          ]
        },
        {
          "data": {
            "text/html": [
              "<div>\n",
              "<style scoped>\n",
              "    .dataframe tbody tr th:only-of-type {\n",
              "        vertical-align: middle;\n",
              "    }\n",
              "\n",
              "    .dataframe tbody tr th {\n",
              "        vertical-align: top;\n",
              "    }\n",
              "\n",
              "    .dataframe thead th {\n",
              "        text-align: right;\n",
              "    }\n",
              "</style>\n",
              "<table border=\"1\" class=\"dataframe\">\n",
              "  <thead>\n",
              "    <tr style=\"text-align: right;\">\n",
              "      <th></th>\n",
              "      <th>MSZoning</th>\n",
              "      <th>LotFrontage</th>\n",
              "      <th>Alley</th>\n",
              "      <th>Utilities</th>\n",
              "      <th>Exterior1st</th>\n",
              "      <th>Exterior2nd</th>\n",
              "      <th>MasVnrType</th>\n",
              "      <th>MasVnrArea</th>\n",
              "      <th>BsmtQual</th>\n",
              "      <th>BsmtCond</th>\n",
              "      <th>...</th>\n",
              "      <th>GarageYrBlt</th>\n",
              "      <th>GarageFinish</th>\n",
              "      <th>GarageCars</th>\n",
              "      <th>GarageArea</th>\n",
              "      <th>GarageQual</th>\n",
              "      <th>GarageCond</th>\n",
              "      <th>PoolQC</th>\n",
              "      <th>Fence</th>\n",
              "      <th>MiscFeature</th>\n",
              "      <th>SaleType</th>\n",
              "    </tr>\n",
              "  </thead>\n",
              "  <tbody>\n",
              "    <tr>\n",
              "      <th>train</th>\n",
              "      <td>0</td>\n",
              "      <td>259</td>\n",
              "      <td>1369</td>\n",
              "      <td>0</td>\n",
              "      <td>0</td>\n",
              "      <td>0</td>\n",
              "      <td>872</td>\n",
              "      <td>8</td>\n",
              "      <td>37</td>\n",
              "      <td>37</td>\n",
              "      <td>...</td>\n",
              "      <td>81</td>\n",
              "      <td>81</td>\n",
              "      <td>0</td>\n",
              "      <td>0</td>\n",
              "      <td>81</td>\n",
              "      <td>81</td>\n",
              "      <td>1453</td>\n",
              "      <td>1179</td>\n",
              "      <td>1406</td>\n",
              "      <td>0</td>\n",
              "    </tr>\n",
              "    <tr>\n",
              "      <th>test</th>\n",
              "      <td>4</td>\n",
              "      <td>227</td>\n",
              "      <td>1352</td>\n",
              "      <td>2</td>\n",
              "      <td>1</td>\n",
              "      <td>1</td>\n",
              "      <td>894</td>\n",
              "      <td>15</td>\n",
              "      <td>44</td>\n",
              "      <td>45</td>\n",
              "      <td>...</td>\n",
              "      <td>78</td>\n",
              "      <td>78</td>\n",
              "      <td>1</td>\n",
              "      <td>1</td>\n",
              "      <td>78</td>\n",
              "      <td>78</td>\n",
              "      <td>1456</td>\n",
              "      <td>1169</td>\n",
              "      <td>1408</td>\n",
              "      <td>1</td>\n",
              "    </tr>\n",
              "    <tr>\n",
              "      <th>conbine</th>\n",
              "      <td>4</td>\n",
              "      <td>486</td>\n",
              "      <td>2721</td>\n",
              "      <td>2</td>\n",
              "      <td>1</td>\n",
              "      <td>1</td>\n",
              "      <td>1766</td>\n",
              "      <td>23</td>\n",
              "      <td>81</td>\n",
              "      <td>82</td>\n",
              "      <td>...</td>\n",
              "      <td>159</td>\n",
              "      <td>159</td>\n",
              "      <td>1</td>\n",
              "      <td>1</td>\n",
              "      <td>159</td>\n",
              "      <td>159</td>\n",
              "      <td>2909</td>\n",
              "      <td>2348</td>\n",
              "      <td>2814</td>\n",
              "      <td>1</td>\n",
              "    </tr>\n",
              "  </tbody>\n",
              "</table>\n",
              "<p>3 rows × 34 columns</p>\n",
              "</div>"
            ],
            "text/plain": [
              "         MSZoning  LotFrontage  Alley  Utilities  Exterior1st  Exterior2nd  \\\n",
              "train           0          259   1369          0            0            0   \n",
              "test            4          227   1352          2            1            1   \n",
              "conbine         4          486   2721          2            1            1   \n",
              "\n",
              "         MasVnrType  MasVnrArea  BsmtQual  BsmtCond  ...  GarageYrBlt  \\\n",
              "train           872           8        37        37  ...           81   \n",
              "test            894          15        44        45  ...           78   \n",
              "conbine        1766          23        81        82  ...          159   \n",
              "\n",
              "         GarageFinish  GarageCars  GarageArea  GarageQual  GarageCond  PoolQC  \\\n",
              "train              81           0           0          81          81    1453   \n",
              "test               78           1           1          78          78    1456   \n",
              "conbine           159           1           1         159         159    2909   \n",
              "\n",
              "         Fence  MiscFeature  SaleType  \n",
              "train     1179         1406         0  \n",
              "test      1169         1408         1  \n",
              "conbine   2348         2814         1  \n",
              "\n",
              "[3 rows x 34 columns]"
            ]
          },
          "execution_count": 12,
          "metadata": {},
          "output_type": "execute_result"
        }
      ],
      "source": [
        "# Get columns with missing data in the combined dataset\n",
        "has_null_columns = combined_data.columns[combined_data.isnull().any()].tolist()\n",
        "\n",
        "# Count missing values for each column in train, test, and combined datasets\n",
        "train_null = train_data[has_null_columns].isnull().sum()\n",
        "test_null = test_data[has_null_columns].isnull().sum()\n",
        "combined_null = combined_data[has_null_columns].isnull().sum()\n",
        "\n",
        "print('how many data missed each column of train/test/conbine datas')\n",
        "\n",
        "# Create a DataFrame to summarize missing values for each column across datasets\n",
        "missed_data = pd.DataFrame(\n",
        "    data=[train_null, test_null, combined_null],\n",
        "    index=['train', 'test', 'conbine'],\n",
        "    columns=has_null_columns\n",
        ")\n",
        "\n",
        "# Display the summary DataFrame\n",
        "missed_data\n",
        "\n",
        "# Explanation:\n",
        "# - has_null_columns: List of columns in combined_data that have missing values.\n",
        "# - train_null, test_null, combined_null: Series showing the count of missing values for each column in train, test, and combined datasets.\n",
        "# - missed_data: DataFrame that organizes the missing value counts for easy comparison.\n",
        "# - This helps to quickly identify which columns have missing data and how much is missing in each dataset."
      ]
    },
    {
      "cell_type": "code",
      "execution_count": 13,
      "metadata": {},
      "outputs": [
        {
          "name": "stdout",
          "output_type": "stream",
          "text": [
            "34 features to be handled\n"
          ]
        }
      ],
      "source": [
        "print(f\"{len(combined_null[combined_null>0])} features to be handled\")"
      ]
    },
    {
      "cell_type": "code",
      "execution_count": 14,
      "metadata": {},
      "outputs": [
        {
          "name": "stdout",
          "output_type": "stream",
          "text": [
            "Feature: MSZoning Missing: 4\n",
            "  Categories: ['RL' 'RM' 'C (all)' 'FV' 'RH']\n",
            "\n",
            "Feature: LotFrontage Missing: 486\n",
            "  Mean: 69.30579531442663\n",
            "  Median: 68.0\n",
            "  CV: 0.3368391431195068\n",
            "\n",
            "Feature: Alley Missing: 2721\n",
            "  Categories: ['Grvl' 'Pave']\n",
            "\n",
            "Feature: Utilities Missing: 2\n",
            "  Categories: ['AllPub' 'NoSeWa']\n",
            "\n",
            "Feature: Exterior1st Missing: 1\n",
            "  Categories: ['VinylSd' 'MetalSd' 'Wd Sdng' 'HdBoard' 'BrkFace' 'WdShing' 'CemntBd'\n",
            " 'Plywood' 'AsbShng' 'Stucco' 'BrkComm' 'AsphShn' 'Stone' 'ImStucc'\n",
            " 'CBlock']\n",
            "\n",
            "Feature: Exterior2nd Missing: 1\n",
            "  Categories: ['VinylSd' 'MetalSd' 'Wd Shng' 'HdBoard' 'Plywood' 'Wd Sdng' 'CmentBd'\n",
            " 'BrkFace' 'Stucco' 'AsbShng' 'Brk Cmn' 'ImStucc' 'AsphShn' 'Stone'\n",
            " 'Other' 'CBlock']\n",
            "\n",
            "Feature: MasVnrType Missing: 1766\n",
            "  Categories: ['BrkFace' 'Stone' 'BrkCmn']\n",
            "\n",
            "Feature: MasVnrArea Missing: 23\n",
            "  Mean: 102.20131215469613\n",
            "  Median: 0.0\n",
            "  CV: 1.7547157590923699\n",
            "\n",
            "Feature: BsmtQual Missing: 81\n",
            "  Categories: ['Gd' 'TA' 'Ex' 'Fa']\n",
            "\n",
            "Feature: BsmtCond Missing: 82\n",
            "  Categories: ['TA' 'Gd' 'Fa' 'Po']\n",
            "\n",
            "Feature: BsmtExposure Missing: 82\n",
            "  Categories: ['No' 'Gd' 'Mn' 'Av']\n",
            "\n",
            "Feature: BsmtFinType1 Missing: 79\n",
            "  Categories: ['GLQ' 'ALQ' 'Unf' 'Rec' 'BLQ' 'LwQ']\n",
            "\n",
            "Feature: BsmtFinSF1 Missing: 1\n",
            "  Mean: 441.4232350925291\n",
            "  Median: 368.5\n",
            "  CV: 1.0321405618233683\n",
            "\n",
            "Feature: BsmtFinType2 Missing: 80\n",
            "  Categories: ['Unf' 'BLQ' 'ALQ' 'Rec' 'LwQ' 'GLQ']\n",
            "\n",
            "Feature: BsmtFinSF2 Missing: 1\n",
            "  Mean: 49.58224811514736\n",
            "  Median: 0.0\n",
            "  CV: 3.4126248311094156\n",
            "\n",
            "Feature: BsmtUnfSF Missing: 1\n",
            "  Mean: 560.7721041809458\n",
            "  Median: 467.0\n",
            "  CV: 0.7838186959485614\n",
            "\n",
            "Feature: TotalBsmtSF Missing: 1\n",
            "  Mean: 1051.7775873886224\n",
            "  Median: 989.5\n",
            "  CV: 0.41906793166251327\n",
            "\n",
            "Feature: Electrical Missing: 1\n",
            "  Categories: ['SBrkr' 'FuseF' 'FuseA' 'FuseP' 'Mix']\n",
            "\n",
            "Feature: BsmtFullBath Missing: 2\n",
            "  Mean: 0.429893726431265\n",
            "  Median: 0.0\n",
            "  CV: 1.2206171000779782\n",
            "\n",
            "Feature: BsmtHalfBath Missing: 2\n",
            "  Mean: 0.06136441549537196\n",
            "  Median: 0.0\n",
            "  CV: 4.003735951299931\n",
            "\n",
            "Feature: KitchenQual Missing: 1\n",
            "  Categories: ['Gd' 'TA' 'Ex' 'Fa']\n",
            "\n",
            "Feature: Functional Missing: 2\n",
            "  Categories: ['Typ' 'Min1' 'Maj1' 'Min2' 'Mod' 'Maj2' 'Sev']\n",
            "\n",
            "Feature: FireplaceQu Missing: 1420\n",
            "  Categories: ['TA' 'Gd' 'Fa' 'Ex' 'Po']\n",
            "\n",
            "Feature: GarageType Missing: 157\n",
            "  Categories: ['Attchd' 'Detchd' 'BuiltIn' 'CarPort' 'Basment' '2Types']\n",
            "\n",
            "Feature: GarageYrBlt Missing: 159\n",
            "  Mean: 1978.1134057971014\n",
            "  Median: 1979.0\n",
            "  CV: 0.012928624136996664\n",
            "\n",
            "Feature: GarageFinish Missing: 159\n",
            "  Categories: ['RFn' 'Unf' 'Fin']\n",
            "\n",
            "Feature: GarageCars Missing: 1\n",
            "  Mean: 1.7666209732693625\n",
            "  Median: 2.0\n",
            "  CV: 0.43111925768087334\n",
            "\n",
            "Feature: GarageArea Missing: 1\n",
            "  Mean: 472.8745716244003\n",
            "  Median: 480.0\n",
            "  CV: 0.4555009465905638\n",
            "\n",
            "Feature: GarageQual Missing: 159\n",
            "  Categories: ['TA' 'Fa' 'Gd' 'Ex' 'Po']\n",
            "\n",
            "Feature: GarageCond Missing: 159\n",
            "  Categories: ['TA' 'Fa' 'Gd' 'Po' 'Ex']\n",
            "\n",
            "Feature: PoolQC Missing: 2909\n",
            "  Categories: ['Ex' 'Fa' 'Gd']\n",
            "\n",
            "Feature: Fence Missing: 2348\n",
            "  Categories: ['MnPrv' 'GdWo' 'GdPrv' 'MnWw']\n",
            "\n",
            "Feature: MiscFeature Missing: 2814\n",
            "  Categories: ['Shed' 'Gar2' 'Othr' 'TenC']\n",
            "\n",
            "Feature: SaleType Missing: 1\n",
            "  Categories: ['WD' 'New' 'COD' 'ConLD' 'ConLI' 'CWD' 'ConLw' 'Con' 'Oth']\n",
            "\n"
          ]
        }
      ],
      "source": [
        "for feature, missing_count in combined_null[combined_null > 0].items():\n",
        "    print(f\"Feature: {feature} Missing: {missing_count}\")\n",
        "    col_data = combined_data[feature]\n",
        "    if pd.api.types.is_numeric_dtype(col_data):\n",
        "        mean = col_data.mean()\n",
        "        median = col_data.median()\n",
        "        std = col_data.std()\n",
        "        cv = std / mean if mean != 0 else float('nan')\n",
        "        print(f\"  Mean: {mean}\")\n",
        "        print(f\"  Median: {median}\")\n",
        "        print(f\"  CV: {cv}\")\n",
        "    else:\n",
        "        categories = col_data.dropna().unique()\n",
        "        print(f\"  Categories: {categories}\")\n",
        "    print()"
      ]
    },
    {
      "cell_type": "markdown",
      "metadata": {
        "id": "3DDWFi7aUVPc"
      },
      "source": [
        "decleare a function to fill the missing values in the dataset and apply appropriate imputation strategies based on the nature of each feature."
      ]
    },
    {
      "cell_type": "code",
      "execution_count": 15,
      "metadata": {
        "collapsed": true,
        "id": "eKH50-95UVPc"
      },
      "outputs": [],
      "source": [
        "def fill_missing_combined_data(column, value):\n",
        "    # Fill missing values in the specified column of combined_data with the provided value.\n",
        "    # This function locates all rows in combined_data where the given column is null (missing),\n",
        "    # and sets those entries to the specified value.\n",
        "    # Useful for handling missing data during preprocessing and feature engineering.\n",
        "    combined_data.loc[combined_data[column].isnull(),column] = value"
      ]
    },
    {
      "cell_type": "markdown",
      "metadata": {
        "id": "4eDmm-A0UVPd"
      },
      "source": [
        "**LotFrontage/LotArea**\n",
        "\n",
        "For missing LotFrontage (Linear feet of street connected to property), the average value is usually used for imputation, but it may be related to different Neighborhoods."
      ]
    },
    {
      "cell_type": "code",
      "execution_count": 16,
      "metadata": {},
      "outputs": [
        {
          "name": "stdout",
          "output_type": "stream",
          "text": [
            "LotFrontage: 486\n",
            "MasVnrArea: 23\n",
            "BsmtFinSF1: 1\n",
            "BsmtFinSF2: 1\n",
            "BsmtUnfSF: 1\n",
            "TotalBsmtSF: 1\n",
            "BsmtFullBath: 2\n",
            "BsmtHalfBath: 2\n",
            "GarageYrBlt: 159\n",
            "GarageCars: 1\n",
            "GarageArea: 1\n",
            "cols we use to drop na rows: ['LotFrontage', 'MasVnrArea', 'BsmtFinSF1', 'BsmtFinSF2', 'BsmtUnfSF', 'TotalBsmtSF', 'BsmtFullBath', 'BsmtHalfBath', 'GarageYrBlt', 'GarageCars', 'GarageArea']\n"
          ]
        }
      ],
      "source": [
        "# Find numeric features with missing value count less than 100\n",
        "numeric_cols = combined_data.select_dtypes(include=[np.number]).columns\n",
        "subset_cols = []\n",
        "for col in numeric_cols:\n",
        "    missing_count = combined_data[col].isnull().sum()\n",
        "    if 0 < missing_count < 500 and col not in subset_cols:\n",
        "        subset_cols.append(col)\n",
        "    if missing_count > 0:\n",
        "        print(f\"{col}: {missing_count}\")\n",
        "print(f\"cols we use to drop na rows: {subset_cols}\")"
      ]
    },
    {
      "cell_type": "code",
      "execution_count": 17,
      "metadata": {},
      "outputs": [],
      "source": [
        "## remove those features that are categorical in nature but labeled with numeric values\n",
        "## These are: 'GarageCars', 'BsmtHalfBath', 'BsmtFullBath'\n",
        "subset_cols =['LotFrontage', 'MasVnrArea', 'BsmtFinSF1', 'BsmtFinSF2', 'BsmtUnfSF', 'TotalBsmtSF', 'GarageYrBlt', 'GarageArea']"
      ]
    },
    {
      "cell_type": "code",
      "execution_count": 18,
      "metadata": {},
      "outputs": [
        {
          "name": "stdout",
          "output_type": "stream",
          "text": [
            "Pearson correlation (LotFrontage, SalePrice): 0.351799096570678\n"
          ]
        }
      ],
      "source": [
        "# Calculate the Pearson correlation coefficient between LotFrontage and SalePrice in the training data\n",
        "correlation = train_data['LotFrontage'].corr(train_data['SalePrice'])\n",
        "print(f\"Pearson correlation (LotFrontage, SalePrice): {correlation}\")"
      ]
    },
    {
      "cell_type": "code",
      "execution_count": 19,
      "metadata": {},
      "outputs": [
        {
          "data": {
            "image/png": "[encoded data removed]",
            "text/plain": [
              "<Figure size 640x480 with 1 Axes>"
            ]
          },
          "metadata": {},
          "output_type": "display_data"
        }
      ],
      "source": [
        "plt.scatter(train_data['LotFrontage'], train_data['SalePrice'], marker='.', s=10, alpha=0.3)\n",
        "# plt.xlim(-1000, 50000)\n",
        "plt.xlabel('LotFrontage')\n",
        "plt.ylabel('SalePrice')\n",
        "plt.show()"
      ]
    },
    {
      "cell_type": "code",
      "execution_count": 21,
      "metadata": {},
      "outputs": [
        {
          "name": "stdout",
          "output_type": "stream",
          "text": [
            "LotFrontage: mean=69.31, median=68.00, cv=0.34 -> replaced with mean\n",
            "MasVnrArea: mean=102.20, median=0.00, cv=1.75 -> replaced with median\n",
            "BsmtFinSF1: mean=441.42, median=368.50, cv=1.03 -> replaced with median\n",
            "BsmtFinSF2: mean=49.58, median=0.00, cv=3.41 -> replaced with median\n",
            "BsmtUnfSF: mean=560.77, median=467.00, cv=0.78 -> replaced with median\n",
            "TotalBsmtSF: mean=1051.78, median=989.50, cv=0.42 -> replaced with mean\n",
            "GarageYrBlt: mean=1978.11, median=1979.00, cv=0.01 -> replaced with mean\n",
            "GarageArea: mean=472.87, median=480.00, cv=0.46 -> replaced with mean\n"
          ]
        }
      ],
      "source": [
        "# ## method 1\n",
        "# # Drop rows with missing values in these columns\n",
        "# combined_data.dropna(subset=subset_cols, inplace=True)\n",
        "\n",
        "\n",
        "\n",
        "## method 2\n",
        "# for features in subset_cols, if cv is low, replace missing values with mean otherwise replace missing values with median\n",
        "for col in subset_cols:\n",
        "    col_data = combined_data[col]\n",
        "    mean = col_data.mean()\n",
        "    median = col_data.median()\n",
        "    std = col_data.std()\n",
        "    cv = std / mean if mean != 0 else float('nan')\n",
        "    if cv < 0.5:\n",
        "        combined_data[col].fillna(mean, inplace=True)\n",
        "        print(f\"{col}: mean={mean:.2f}, median={median:.2f}, cv={cv:.2f} -> replaced with mean\")\n",
        "    else:\n",
        "        combined_data[col].fillna(median, inplace=True)\n",
        "        print(f\"{col}: mean={mean:.2f}, median={median:.2f}, cv={cv:.2f} -> replaced with median\")"
      ]
    },
    {
      "cell_type": "code",
      "execution_count": 22,
      "metadata": {},
      "outputs": [
        {
          "data": {
            "image/png": "[encoded data removed]",
            "text/plain": [
              "<Figure size 600x400 with 1 Axes>"
            ]
          },
          "metadata": {},
          "output_type": "display_data"
        },
        {
          "data": {
            "image/png": "[encoded data removed]",
            "text/plain": [
              "<Figure size 600x400 with 1 Axes>"
            ]
          },
          "metadata": {},
          "output_type": "display_data"
        },
        {
          "data": {
            "image/png": "[encoded data removed]",
            "text/plain": [
              "<Figure size 600x400 with 1 Axes>"
            ]
          },
          "metadata": {},
          "output_type": "display_data"
        },
        {
          "data": {
            "image/png": "[encoded data removed]",
            "text/plain": [
              "<Figure size 600x400 with 1 Axes>"
            ]
          },
          "metadata": {},
          "output_type": "display_data"
        },
        {
          "data": {
            "image/png": "[encoded data removed]",
            "text/plain": [
              "<Figure size 600x400 with 1 Axes>"
            ]
          },
          "metadata": {},
          "output_type": "display_data"
        },
        {
          "data": {
            "image/png": "[encoded data removed]",
            "text/plain": [
              "<Figure size 600x400 with 1 Axes>"
            ]
          },
          "metadata": {},
          "output_type": "display_data"
        },
        {
          "data": {
            "image/png": "[encoded data removed]",
            "text/plain": [
              "<Figure size 600x400 with 1 Axes>"
            ]
          },
          "metadata": {},
          "output_type": "display_data"
        },
        {
          "data": {
            "image/png": "[encoded data removed]",
            "text/plain": [
              "<Figure size 600x400 with 1 Axes>"
            ]
          },
          "metadata": {},
          "output_type": "display_data"
        }
      ],
      "source": [
        "for feature in subset_cols:\n",
        "    plt.figure(figsize=(6, 4))\n",
        "    plt.hist(combined_data[feature].dropna(), bins=30, edgecolor='black')\n",
        "    plt.xlabel(feature)\n",
        "    plt.ylabel('Frequency')\n",
        "    plt.title(f'Histogram of {feature}')\n",
        "    plt.show()"
      ]
    },
    {
      "cell_type": "code",
      "execution_count": 23,
      "metadata": {},
      "outputs": [
        {
          "name": "stdout",
          "output_type": "stream",
          "text": [
            "Feature: MSZoning Missing: 4\n",
            "  Categories: ['RL' 'RM' 'C (all)' 'FV' 'RH']\n",
            "\n",
            "Feature: Alley Missing: 2721\n",
            "  Categories: ['Grvl' 'Pave']\n",
            "\n",
            "Feature: Utilities Missing: 2\n",
            "  Categories: ['AllPub' 'NoSeWa']\n",
            "\n",
            "Feature: Exterior1st Missing: 1\n",
            "  Categories: ['VinylSd' 'MetalSd' 'Wd Sdng' 'HdBoard' 'BrkFace' 'WdShing' 'CemntBd'\n",
            " 'Plywood' 'AsbShng' 'Stucco' 'BrkComm' 'AsphShn' 'Stone' 'ImStucc'\n",
            " 'CBlock']\n",
            "\n",
            "Feature: Exterior2nd Missing: 1\n",
            "  Categories: ['VinylSd' 'MetalSd' 'Wd Shng' 'HdBoard' 'Plywood' 'Wd Sdng' 'CmentBd'\n",
            " 'BrkFace' 'Stucco' 'AsbShng' 'Brk Cmn' 'ImStucc' 'AsphShn' 'Stone'\n",
            " 'Other' 'CBlock']\n",
            "\n",
            "Feature: MasVnrType Missing: 1766\n",
            "  Categories: ['BrkFace' 'Stone' 'BrkCmn']\n",
            "\n",
            "Feature: BsmtQual Missing: 81\n",
            "  Categories: ['Gd' 'TA' 'Ex' 'Fa']\n",
            "\n",
            "Feature: BsmtCond Missing: 82\n",
            "  Categories: ['TA' 'Gd' 'Fa' 'Po']\n",
            "\n",
            "Feature: BsmtExposure Missing: 82\n",
            "  Categories: ['No' 'Gd' 'Mn' 'Av']\n",
            "\n",
            "Feature: BsmtFinType1 Missing: 79\n",
            "  Categories: ['GLQ' 'ALQ' 'Unf' 'Rec' 'BLQ' 'LwQ']\n",
            "\n",
            "Feature: BsmtFinType2 Missing: 80\n",
            "  Categories: ['Unf' 'BLQ' 'ALQ' 'Rec' 'LwQ' 'GLQ']\n",
            "\n",
            "Feature: Electrical Missing: 1\n",
            "  Categories: ['SBrkr' 'FuseF' 'FuseA' 'FuseP' 'Mix']\n",
            "\n",
            "Feature: BsmtFullBath Missing: 2\n",
            "  Mean: 0.429893726431265\n",
            "  Median: 0.0\n",
            "  CV: 1.2206171000779782\n",
            "\n",
            "Feature: BsmtHalfBath Missing: 2\n",
            "  Mean: 0.06136441549537196\n",
            "  Median: 0.0\n",
            "  CV: 4.003735951299931\n",
            "\n",
            "Feature: KitchenQual Missing: 1\n",
            "  Categories: ['Gd' 'TA' 'Ex' 'Fa']\n",
            "\n",
            "Feature: Functional Missing: 2\n",
            "  Categories: ['Typ' 'Min1' 'Maj1' 'Min2' 'Mod' 'Maj2' 'Sev']\n",
            "\n",
            "Feature: FireplaceQu Missing: 1420\n",
            "  Categories: ['TA' 'Gd' 'Fa' 'Ex' 'Po']\n",
            "\n",
            "Feature: GarageType Missing: 157\n",
            "  Categories: ['Attchd' 'Detchd' 'BuiltIn' 'CarPort' 'Basment' '2Types']\n",
            "\n",
            "Feature: GarageFinish Missing: 159\n",
            "  Categories: ['RFn' 'Unf' 'Fin']\n",
            "\n",
            "Feature: GarageCars Missing: 1\n",
            "  Mean: 1.7666209732693625\n",
            "  Median: 2.0\n",
            "  CV: 0.43111925768087334\n",
            "\n",
            "Feature: GarageQual Missing: 159\n",
            "  Categories: ['TA' 'Fa' 'Gd' 'Ex' 'Po']\n",
            "\n",
            "Feature: GarageCond Missing: 159\n",
            "  Categories: ['TA' 'Fa' 'Gd' 'Po' 'Ex']\n",
            "\n",
            "Feature: PoolQC Missing: 2909\n",
            "  Categories: ['Ex' 'Fa' 'Gd']\n",
            "\n",
            "Feature: Fence Missing: 2348\n",
            "  Categories: ['MnPrv' 'GdWo' 'GdPrv' 'MnWw']\n",
            "\n",
            "Feature: MiscFeature Missing: 2814\n",
            "  Categories: ['Shed' 'Gar2' 'Othr' 'TenC']\n",
            "\n",
            "Feature: SaleType Missing: 1\n",
            "  Categories: ['WD' 'New' 'COD' 'ConLD' 'ConLI' 'CWD' 'ConLw' 'Con' 'Oth']\n",
            "\n"
          ]
        }
      ],
      "source": [
        "combined_null = combined_data[has_null_columns].isnull().sum()\n",
        "for feature, missing_count in combined_null[combined_null > 0].items():\n",
        "    print(f\"Feature: {feature} Missing: {missing_count}\")\n",
        "    col_data = combined_data[feature]\n",
        "    if pd.api.types.is_numeric_dtype(col_data):\n",
        "        mean = col_data.mean()\n",
        "        median = col_data.median()\n",
        "        std = col_data.std()\n",
        "        cv = std / mean if mean != 0 else float('nan')\n",
        "        print(f\"  Mean: {mean}\")\n",
        "        print(f\"  Median: {median}\")\n",
        "        print(f\"  CV: {cv}\")\n",
        "    else:\n",
        "        categories = col_data.dropna().unique()\n",
        "        print(f\"  Categories: {categories}\")\n",
        "    print()"
      ]
    },
    {
      "cell_type": "code",
      "execution_count": 24,
      "metadata": {},
      "outputs": [
        {
          "name": "stdout",
          "output_type": "stream",
          "text": [
            "MSZoning: 4\n",
            "Utilities: 2\n",
            "Exterior1st: 1\n",
            "Exterior2nd: 1\n",
            "BsmtQual: 81\n",
            "BsmtCond: 82\n",
            "BsmtExposure: 82\n",
            "BsmtFinType1: 79\n",
            "BsmtFinType2: 80\n",
            "Electrical: 1\n",
            "BsmtFullBath: 2\n",
            "BsmtHalfBath: 2\n",
            "KitchenQual: 1\n",
            "Functional: 2\n",
            "GarageType: 157\n",
            "GarageFinish: 159\n",
            "GarageCars: 1\n",
            "GarageQual: 159\n",
            "GarageCond: 159\n",
            "SaleType: 1\n",
            "cols we use to drop na rows: ['MSZoning', 'Utilities', 'Exterior1st', 'Exterior2nd', 'BsmtQual', 'BsmtCond', 'BsmtExposure', 'BsmtFinType1', 'BsmtFinType2', 'Electrical', 'BsmtFullBath', 'BsmtHalfBath', 'KitchenQual', 'Functional', 'GarageType', 'GarageFinish', 'GarageCars', 'GarageQual', 'GarageCond', 'SaleType']\n"
          ]
        }
      ],
      "source": [
        "# Find categorical features with missing value count less than 100\n",
        "subset_cols = []\n",
        "for col in combined_data.columns:\n",
        "    missing_count = combined_data[col].isnull().sum()\n",
        "    if 0 < missing_count < 500 and col not in subset_cols:\n",
        "        subset_cols.append(col)\n",
        "        print(f\"{col}: {missing_count}\")\n",
        "print(f\"cols we use to drop na rows: {subset_cols}\")"
      ]
    },
    {
      "cell_type": "code",
      "execution_count": 25,
      "metadata": {},
      "outputs": [],
      "source": [
        "# Drop rows with missing values in these columns\n",
        "combined_data.dropna(subset=subset_cols, inplace=True)"
      ]
    },
    {
      "cell_type": "code",
      "execution_count": 26,
      "metadata": {},
      "outputs": [
        {
          "name": "stdout",
          "output_type": "stream",
          "text": [
            "Feature: Alley Missing: 2505\n",
            "  Categories: ['Grvl' 'Pave']\n",
            "\n",
            "Feature: MasVnrType Missing: 1556\n",
            "  Categories: ['BrkFace' 'Stone' 'BrkCmn']\n",
            "\n",
            "Feature: FireplaceQu Missing: 1222\n",
            "  Categories: ['TA' 'Gd' 'Fa' 'Ex' 'Po']\n",
            "\n",
            "Feature: PoolQC Missing: 2670\n",
            "  Categories: ['Ex' 'Fa' 'Gd']\n",
            "\n",
            "Feature: Fence Missing: 2150\n",
            "  Categories: ['MnPrv' 'GdWo' 'GdPrv' 'MnWw']\n",
            "\n",
            "Feature: MiscFeature Missing: 2587\n",
            "  Categories: ['Shed' 'Gar2' 'Othr' 'TenC']\n",
            "\n"
          ]
        }
      ],
      "source": [
        "combined_null = combined_data[has_null_columns].isnull().sum()\n",
        "for feature, missing_count in combined_null[combined_null > 0].items():\n",
        "    print(f\"Feature: {feature} Missing: {missing_count}\")\n",
        "    col_data = combined_data[feature]\n",
        "    if pd.api.types.is_numeric_dtype(col_data):\n",
        "        mean = col_data.mean()\n",
        "        median = col_data.median()\n",
        "        std = col_data.std()\n",
        "        cv = std / mean if mean != 0 else float('nan')\n",
        "        print(f\"  Mean: {mean}\")\n",
        "        print(f\"  Median: {median}\")\n",
        "        print(f\"  CV: {cv}\")\n",
        "    else:\n",
        "        categories = col_data.dropna().unique()\n",
        "        print(f\"  Categories: {categories}\")\n",
        "    print()"
      ]
    },
    {
      "cell_type": "code",
      "execution_count": 27,
      "metadata": {},
      "outputs": [],
      "source": [
        "## the remaining features are not actually missing values. In these, nan means no. So, we replace with 'NA' and later give them a numeric value as a unique category\n",
        "for feature, _ in combined_null[combined_null > 0].items():\n",
        "    fill_missing_combined_data(feature, 'NA')"
      ]
    },
    {
      "cell_type": "code",
      "execution_count": 31,
      "metadata": {},
      "outputs": [
        {
          "name": "stdout",
          "output_type": "stream",
          "text": [
            "MSZoning: ['RL' 'RM' 'C (all)' 'FV' 'RH']\n",
            "Street: ['Pave' 'Grvl']\n",
            "Alley: ['NA' 'Grvl' 'Pave']\n",
            "LotShape: ['Reg' 'IR1' 'IR2' 'IR3']\n",
            "LandContour: ['Lvl' 'Bnk' 'Low' 'HLS']\n",
            "Utilities: ['AllPub' 'NoSeWa']\n",
            "LotConfig: ['Inside' 'FR2' 'Corner' 'CulDSac' 'FR3']\n",
            "LandSlope: ['Gtl' 'Mod' 'Sev']\n",
            "Neighborhood: ['CollgCr' 'Veenker' 'Crawfor' 'NoRidge' 'Mitchel' 'Somerst' 'NWAmes'\n",
            " 'OldTown' 'BrkSide' 'Sawyer' 'NridgHt' 'NAmes' 'SawyerW' 'IDOTRR'\n",
            " 'MeadowV' 'Timber' 'Gilbert' 'StoneBr' 'ClearCr' 'Edwards' 'NPkVill'\n",
            " 'Blmngtn' 'BrDale' 'SWISU' 'Blueste']\n",
            "Condition1: ['Norm' 'Feedr' 'PosN' 'Artery' 'RRAe' 'RRNn' 'RRAn' 'PosA' 'RRNe']\n",
            "Condition2: ['Norm' 'Artery' 'RRNn' 'Feedr' 'PosN' 'PosA' 'RRAn' 'RRAe']\n",
            "BldgType: ['1Fam' '2fmCon' 'TwnhsE' 'Duplex' 'Twnhs']\n",
            "HouseStyle: ['2Story' '1Story' '1.5Fin' '1.5Unf' 'SFoyer' 'SLvl' '2.5Unf' '2.5Fin']\n",
            "RoofStyle: ['Gable' 'Hip' 'Gambrel' 'Mansard' 'Flat' 'Shed']\n",
            "RoofMatl: ['CompShg' 'WdShngl' 'Metal' 'WdShake' 'Membran' 'Tar&Grv' 'Roll'\n",
            " 'ClyTile']\n",
            "Exterior1st: ['VinylSd' 'MetalSd' 'Wd Sdng' 'HdBoard' 'BrkFace' 'WdShing' 'CemntBd'\n",
            " 'Plywood' 'Stucco' 'AsbShng' 'BrkComm' 'Stone' 'ImStucc' 'CBlock']\n",
            "Exterior2nd: ['VinylSd' 'MetalSd' 'Wd Shng' 'HdBoard' 'Plywood' 'Wd Sdng' 'CmentBd'\n",
            " 'BrkFace' 'Stucco' 'AsbShng' 'Brk Cmn' 'ImStucc' 'AsphShn' 'Stone'\n",
            " 'Other' 'CBlock']\n",
            "MasVnrType: ['BrkFace' 'NA' 'Stone' 'BrkCmn']\n",
            "ExterQual: ['Gd' 'TA' 'Ex' 'Fa']\n",
            "ExterCond: ['TA' 'Gd' 'Fa' 'Ex' 'Po']\n",
            "Foundation: ['PConc' 'CBlock' 'BrkTil' 'Wood' 'Stone']\n",
            "BsmtQual: ['Gd' 'TA' 'Ex' 'Fa']\n",
            "BsmtCond: ['TA' 'Gd' 'Fa' 'Po']\n",
            "BsmtExposure: ['No' 'Gd' 'Mn' 'Av']\n",
            "BsmtFinType1: ['GLQ' 'ALQ' 'Unf' 'Rec' 'BLQ' 'LwQ']\n",
            "BsmtFinType2: ['Unf' 'BLQ' 'ALQ' 'Rec' 'LwQ' 'GLQ']\n",
            "Heating: ['GasA' 'GasW' 'Grav' 'OthW']\n",
            "HeatingQC: ['Ex' 'Gd' 'TA' 'Fa' 'Po']\n",
            "CentralAir: ['Y' 'N']\n",
            "Electrical: ['SBrkr' 'FuseF' 'FuseA' 'FuseP' 'Mix']\n",
            "KitchenQual: ['Gd' 'TA' 'Ex' 'Fa']\n",
            "Functional: ['Typ' 'Min1' 'Maj1' 'Min2' 'Mod' 'Maj2' 'Sev']\n",
            "FireplaceQu: ['NA' 'TA' 'Gd' 'Fa' 'Ex' 'Po']\n",
            "GarageType: ['Attchd' 'Detchd' 'BuiltIn' 'CarPort' 'Basment' '2Types']\n",
            "GarageFinish: ['RFn' 'Unf' 'Fin']\n",
            "GarageQual: ['TA' 'Fa' 'Gd' 'Ex' 'Po']\n",
            "GarageCond: ['TA' 'Fa' 'Gd' 'Po' 'Ex']\n",
            "PavedDrive: ['Y' 'N' 'P']\n",
            "PoolQC: ['NA' 'Ex' 'Fa' 'Gd']\n",
            "Fence: ['NA' 'MnPrv' 'GdWo' 'GdPrv' 'MnWw']\n",
            "MiscFeature: ['NA' 'Shed' 'Gar2' 'Othr' 'TenC']\n",
            "SaleType: ['WD' 'New' 'COD' 'ConLI' 'CWD' 'ConLw' 'Con' 'ConLD' 'Oth']\n",
            "SaleCondition: ['Normal' 'Abnorml' 'Partial' 'Family' 'Alloca' 'AdjLand']\n"
          ]
        }
      ],
      "source": [
        "# Print the names of columns in combined_data that have object (string/categorical) dtype\n",
        "object_columns = combined_data.select_dtypes(include=['object']).columns.tolist()\n",
        "# Print unique values for each object (categorical) column in combined_data\n",
        "for col in object_columns:\n",
        "    unique_vals = combined_data[col].unique()\n",
        "    print(f\"{col}: {unique_vals}\")"
      ]
    },
    {
      "cell_type": "code",
      "execution_count": 32,
      "metadata": {},
      "outputs": [],
      "source": [
        "categorical_data = combined_data[object_columns]"
      ]
    },
    {
      "cell_type": "code",
      "execution_count": 33,
      "metadata": {},
      "outputs": [
        {
          "data": {
            "text/html": [
              "<div>\n",
              "<style scoped>\n",
              "    .dataframe tbody tr th:only-of-type {\n",
              "        vertical-align: middle;\n",
              "    }\n",
              "\n",
              "    .dataframe tbody tr th {\n",
              "        vertical-align: top;\n",
              "    }\n",
              "\n",
              "    .dataframe thead th {\n",
              "        text-align: right;\n",
              "    }\n",
              "</style>\n",
              "<table border=\"1\" class=\"dataframe\">\n",
              "  <thead>\n",
              "    <tr style=\"text-align: right;\">\n",
              "      <th></th>\n",
              "      <th>MSZoning</th>\n",
              "      <th>Street</th>\n",
              "      <th>Alley</th>\n",
              "      <th>LotShape</th>\n",
              "      <th>LandContour</th>\n",
              "      <th>Utilities</th>\n",
              "      <th>LotConfig</th>\n",
              "      <th>LandSlope</th>\n",
              "      <th>Neighborhood</th>\n",
              "      <th>Condition1</th>\n",
              "      <th>...</th>\n",
              "      <th>GarageType</th>\n",
              "      <th>GarageFinish</th>\n",
              "      <th>GarageQual</th>\n",
              "      <th>GarageCond</th>\n",
              "      <th>PavedDrive</th>\n",
              "      <th>PoolQC</th>\n",
              "      <th>Fence</th>\n",
              "      <th>MiscFeature</th>\n",
              "      <th>SaleType</th>\n",
              "      <th>SaleCondition</th>\n",
              "    </tr>\n",
              "  </thead>\n",
              "  <tbody>\n",
              "    <tr>\n",
              "      <th>0</th>\n",
              "      <td>RL</td>\n",
              "      <td>Pave</td>\n",
              "      <td>NA</td>\n",
              "      <td>Reg</td>\n",
              "      <td>Lvl</td>\n",
              "      <td>AllPub</td>\n",
              "      <td>Inside</td>\n",
              "      <td>Gtl</td>\n",
              "      <td>CollgCr</td>\n",
              "      <td>Norm</td>\n",
              "      <td>...</td>\n",
              "      <td>Attchd</td>\n",
              "      <td>RFn</td>\n",
              "      <td>TA</td>\n",
              "      <td>TA</td>\n",
              "      <td>Y</td>\n",
              "      <td>NA</td>\n",
              "      <td>NA</td>\n",
              "      <td>NA</td>\n",
              "      <td>WD</td>\n",
              "      <td>Normal</td>\n",
              "    </tr>\n",
              "    <tr>\n",
              "      <th>1</th>\n",
              "      <td>RL</td>\n",
              "      <td>Pave</td>\n",
              "      <td>NA</td>\n",
              "      <td>Reg</td>\n",
              "      <td>Lvl</td>\n",
              "      <td>AllPub</td>\n",
              "      <td>FR2</td>\n",
              "      <td>Gtl</td>\n",
              "      <td>Veenker</td>\n",
              "      <td>Feedr</td>\n",
              "      <td>...</td>\n",
              "      <td>Attchd</td>\n",
              "      <td>RFn</td>\n",
              "      <td>TA</td>\n",
              "      <td>TA</td>\n",
              "      <td>Y</td>\n",
              "      <td>NA</td>\n",
              "      <td>NA</td>\n",
              "      <td>NA</td>\n",
              "      <td>WD</td>\n",
              "      <td>Normal</td>\n",
              "    </tr>\n",
              "    <tr>\n",
              "      <th>2</th>\n",
              "      <td>RL</td>\n",
              "      <td>Pave</td>\n",
              "      <td>NA</td>\n",
              "      <td>IR1</td>\n",
              "      <td>Lvl</td>\n",
              "      <td>AllPub</td>\n",
              "      <td>Inside</td>\n",
              "      <td>Gtl</td>\n",
              "      <td>CollgCr</td>\n",
              "      <td>Norm</td>\n",
              "      <td>...</td>\n",
              "      <td>Attchd</td>\n",
              "      <td>RFn</td>\n",
              "      <td>TA</td>\n",
              "      <td>TA</td>\n",
              "      <td>Y</td>\n",
              "      <td>NA</td>\n",
              "      <td>NA</td>\n",
              "      <td>NA</td>\n",
              "      <td>WD</td>\n",
              "      <td>Normal</td>\n",
              "    </tr>\n",
              "  </tbody>\n",
              "</table>\n",
              "<p>3 rows × 43 columns</p>\n",
              "</div>"
            ],
            "text/plain": [
              "  MSZoning Street Alley LotShape LandContour Utilities LotConfig LandSlope  \\\n",
              "0       RL   Pave    NA      Reg         Lvl    AllPub    Inside       Gtl   \n",
              "1       RL   Pave    NA      Reg         Lvl    AllPub       FR2       Gtl   \n",
              "2       RL   Pave    NA      IR1         Lvl    AllPub    Inside       Gtl   \n",
              "\n",
              "  Neighborhood Condition1  ... GarageType GarageFinish GarageQual GarageCond  \\\n",
              "0      CollgCr       Norm  ...     Attchd          RFn         TA         TA   \n",
              "1      Veenker      Feedr  ...     Attchd          RFn         TA         TA   \n",
              "2      CollgCr       Norm  ...     Attchd          RFn         TA         TA   \n",
              "\n",
              "  PavedDrive PoolQC Fence MiscFeature SaleType SaleCondition  \n",
              "0          Y     NA    NA          NA       WD        Normal  \n",
              "1          Y     NA    NA          NA       WD        Normal  \n",
              "2          Y     NA    NA          NA       WD        Normal  \n",
              "\n",
              "[3 rows x 43 columns]"
            ]
          },
          "execution_count": 33,
          "metadata": {},
          "output_type": "execute_result"
        }
      ],
      "source": [
        "categorical_data.head(3)"
      ]
    },
    {
      "cell_type": "code",
      "execution_count": 34,
      "metadata": {},
      "outputs": [],
      "source": [
        "from sklearn.preprocessing import LabelEncoder\n",
        "\n",
        "# Apply label encoding to all columns in categorical_data\n",
        "label_encoders = {}\n",
        "for col in categorical_data.columns:\n",
        "    le = LabelEncoder()\n",
        "    categorical_data[col] = le.fit_transform(categorical_data[col].astype(str))\n",
        "    label_encoders[col] = le"
      ]
    },
    {
      "cell_type": "code",
      "execution_count": 35,
      "metadata": {},
      "outputs": [
        {
          "data": {
            "text/html": [
              "<div>\n",
              "<style scoped>\n",
              "    .dataframe tbody tr th:only-of-type {\n",
              "        vertical-align: middle;\n",
              "    }\n",
              "\n",
              "    .dataframe tbody tr th {\n",
              "        vertical-align: top;\n",
              "    }\n",
              "\n",
              "    .dataframe thead th {\n",
              "        text-align: right;\n",
              "    }\n",
              "</style>\n",
              "<table border=\"1\" class=\"dataframe\">\n",
              "  <thead>\n",
              "    <tr style=\"text-align: right;\">\n",
              "      <th></th>\n",
              "      <th>MSZoning</th>\n",
              "      <th>Street</th>\n",
              "      <th>Alley</th>\n",
              "      <th>LotShape</th>\n",
              "      <th>LandContour</th>\n",
              "      <th>Utilities</th>\n",
              "      <th>LotConfig</th>\n",
              "      <th>LandSlope</th>\n",
              "      <th>Neighborhood</th>\n",
              "      <th>Condition1</th>\n",
              "      <th>...</th>\n",
              "      <th>GarageType</th>\n",
              "      <th>GarageFinish</th>\n",
              "      <th>GarageQual</th>\n",
              "      <th>GarageCond</th>\n",
              "      <th>PavedDrive</th>\n",
              "      <th>PoolQC</th>\n",
              "      <th>Fence</th>\n",
              "      <th>MiscFeature</th>\n",
              "      <th>SaleType</th>\n",
              "      <th>SaleCondition</th>\n",
              "    </tr>\n",
              "  </thead>\n",
              "  <tbody>\n",
              "    <tr>\n",
              "      <th>0</th>\n",
              "      <td>3</td>\n",
              "      <td>1</td>\n",
              "      <td>1</td>\n",
              "      <td>3</td>\n",
              "      <td>3</td>\n",
              "      <td>0</td>\n",
              "      <td>4</td>\n",
              "      <td>0</td>\n",
              "      <td>5</td>\n",
              "      <td>2</td>\n",
              "      <td>...</td>\n",
              "      <td>1</td>\n",
              "      <td>1</td>\n",
              "      <td>4</td>\n",
              "      <td>4</td>\n",
              "      <td>2</td>\n",
              "      <td>3</td>\n",
              "      <td>4</td>\n",
              "      <td>1</td>\n",
              "      <td>8</td>\n",
              "      <td>4</td>\n",
              "    </tr>\n",
              "    <tr>\n",
              "      <th>1</th>\n",
              "      <td>3</td>\n",
              "      <td>1</td>\n",
              "      <td>1</td>\n",
              "      <td>3</td>\n",
              "      <td>3</td>\n",
              "      <td>0</td>\n",
              "      <td>2</td>\n",
              "      <td>0</td>\n",
              "      <td>24</td>\n",
              "      <td>1</td>\n",
              "      <td>...</td>\n",
              "      <td>1</td>\n",
              "      <td>1</td>\n",
              "      <td>4</td>\n",
              "      <td>4</td>\n",
              "      <td>2</td>\n",
              "      <td>3</td>\n",
              "      <td>4</td>\n",
              "      <td>1</td>\n",
              "      <td>8</td>\n",
              "      <td>4</td>\n",
              "    </tr>\n",
              "    <tr>\n",
              "      <th>2</th>\n",
              "      <td>3</td>\n",
              "      <td>1</td>\n",
              "      <td>1</td>\n",
              "      <td>0</td>\n",
              "      <td>3</td>\n",
              "      <td>0</td>\n",
              "      <td>4</td>\n",
              "      <td>0</td>\n",
              "      <td>5</td>\n",
              "      <td>2</td>\n",
              "      <td>...</td>\n",
              "      <td>1</td>\n",
              "      <td>1</td>\n",
              "      <td>4</td>\n",
              "      <td>4</td>\n",
              "      <td>2</td>\n",
              "      <td>3</td>\n",
              "      <td>4</td>\n",
              "      <td>1</td>\n",
              "      <td>8</td>\n",
              "      <td>4</td>\n",
              "    </tr>\n",
              "  </tbody>\n",
              "</table>\n",
              "<p>3 rows × 43 columns</p>\n",
              "</div>"
            ],
            "text/plain": [
              "   MSZoning  Street  Alley  LotShape  LandContour  Utilities  LotConfig  \\\n",
              "0         3       1      1         3            3          0          4   \n",
              "1         3       1      1         3            3          0          2   \n",
              "2         3       1      1         0            3          0          4   \n",
              "\n",
              "   LandSlope  Neighborhood  Condition1  ...  GarageType  GarageFinish  \\\n",
              "0          0             5           2  ...           1             1   \n",
              "1          0            24           1  ...           1             1   \n",
              "2          0             5           2  ...           1             1   \n",
              "\n",
              "   GarageQual  GarageCond  PavedDrive  PoolQC  Fence  MiscFeature  SaleType  \\\n",
              "0           4           4           2       3      4            1         8   \n",
              "1           4           4           2       3      4            1         8   \n",
              "2           4           4           2       3      4            1         8   \n",
              "\n",
              "   SaleCondition  \n",
              "0              4  \n",
              "1              4  \n",
              "2              4  \n",
              "\n",
              "[3 rows x 43 columns]"
            ]
          },
          "execution_count": 35,
          "metadata": {},
          "output_type": "execute_result"
        }
      ],
      "source": [
        "categorical_data.head(3)"
      ]
    },
    {
      "cell_type": "code",
      "execution_count": 43,
      "metadata": {},
      "outputs": [],
      "source": [
        "X_category = np.array(categorical_data)"
      ]
    },
    {
      "cell_type": "code",
      "execution_count": 36,
      "metadata": {},
      "outputs": [],
      "source": [
        "## make sure no object in data\n",
        "for feature, t in categorical_data.dtypes.items():\n",
        "    if t == 'object':\n",
        "        print(f\"{feature}: {t}\")"
      ]
    },
    {
      "cell_type": "code",
      "execution_count": 37,
      "metadata": {},
      "outputs": [],
      "source": [
        "numeric_data = combined_data.drop(columns=object_columns)"
      ]
    },
    {
      "cell_type": "code",
      "execution_count": 38,
      "metadata": {},
      "outputs": [
        {
          "data": {
            "text/html": [
              "<div>\n",
              "<style scoped>\n",
              "    .dataframe tbody tr th:only-of-type {\n",
              "        vertical-align: middle;\n",
              "    }\n",
              "\n",
              "    .dataframe tbody tr th {\n",
              "        vertical-align: top;\n",
              "    }\n",
              "\n",
              "    .dataframe thead th {\n",
              "        text-align: right;\n",
              "    }\n",
              "</style>\n",
              "<table border=\"1\" class=\"dataframe\">\n",
              "  <thead>\n",
              "    <tr style=\"text-align: right;\">\n",
              "      <th></th>\n",
              "      <th>MSSubClass</th>\n",
              "      <th>LotFrontage</th>\n",
              "      <th>LotArea</th>\n",
              "      <th>OverallQual</th>\n",
              "      <th>OverallCond</th>\n",
              "      <th>YearBuilt</th>\n",
              "      <th>YearRemodAdd</th>\n",
              "      <th>MasVnrArea</th>\n",
              "      <th>BsmtFinSF1</th>\n",
              "      <th>BsmtFinSF2</th>\n",
              "      <th>...</th>\n",
              "      <th>GarageArea</th>\n",
              "      <th>WoodDeckSF</th>\n",
              "      <th>OpenPorchSF</th>\n",
              "      <th>EnclosedPorch</th>\n",
              "      <th>3SsnPorch</th>\n",
              "      <th>ScreenPorch</th>\n",
              "      <th>PoolArea</th>\n",
              "      <th>MiscVal</th>\n",
              "      <th>MoSold</th>\n",
              "      <th>YrSold</th>\n",
              "    </tr>\n",
              "  </thead>\n",
              "  <tbody>\n",
              "    <tr>\n",
              "      <th>0</th>\n",
              "      <td>60</td>\n",
              "      <td>65.0</td>\n",
              "      <td>8450</td>\n",
              "      <td>7</td>\n",
              "      <td>5</td>\n",
              "      <td>2003</td>\n",
              "      <td>2003</td>\n",
              "      <td>196.0</td>\n",
              "      <td>706.0</td>\n",
              "      <td>0.0</td>\n",
              "      <td>...</td>\n",
              "      <td>548.0</td>\n",
              "      <td>0</td>\n",
              "      <td>61</td>\n",
              "      <td>0</td>\n",
              "      <td>0</td>\n",
              "      <td>0</td>\n",
              "      <td>0</td>\n",
              "      <td>0</td>\n",
              "      <td>2</td>\n",
              "      <td>2008</td>\n",
              "    </tr>\n",
              "    <tr>\n",
              "      <th>1</th>\n",
              "      <td>20</td>\n",
              "      <td>80.0</td>\n",
              "      <td>9600</td>\n",
              "      <td>6</td>\n",
              "      <td>8</td>\n",
              "      <td>1976</td>\n",
              "      <td>1976</td>\n",
              "      <td>0.0</td>\n",
              "      <td>978.0</td>\n",
              "      <td>0.0</td>\n",
              "      <td>...</td>\n",
              "      <td>460.0</td>\n",
              "      <td>298</td>\n",
              "      <td>0</td>\n",
              "      <td>0</td>\n",
              "      <td>0</td>\n",
              "      <td>0</td>\n",
              "      <td>0</td>\n",
              "      <td>0</td>\n",
              "      <td>5</td>\n",
              "      <td>2007</td>\n",
              "    </tr>\n",
              "    <tr>\n",
              "      <th>2</th>\n",
              "      <td>60</td>\n",
              "      <td>68.0</td>\n",
              "      <td>11250</td>\n",
              "      <td>7</td>\n",
              "      <td>5</td>\n",
              "      <td>2001</td>\n",
              "      <td>2002</td>\n",
              "      <td>162.0</td>\n",
              "      <td>486.0</td>\n",
              "      <td>0.0</td>\n",
              "      <td>...</td>\n",
              "      <td>608.0</td>\n",
              "      <td>0</td>\n",
              "      <td>42</td>\n",
              "      <td>0</td>\n",
              "      <td>0</td>\n",
              "      <td>0</td>\n",
              "      <td>0</td>\n",
              "      <td>0</td>\n",
              "      <td>9</td>\n",
              "      <td>2008</td>\n",
              "    </tr>\n",
              "    <tr>\n",
              "      <th>3</th>\n",
              "      <td>70</td>\n",
              "      <td>60.0</td>\n",
              "      <td>9550</td>\n",
              "      <td>7</td>\n",
              "      <td>5</td>\n",
              "      <td>1915</td>\n",
              "      <td>1970</td>\n",
              "      <td>0.0</td>\n",
              "      <td>216.0</td>\n",
              "      <td>0.0</td>\n",
              "      <td>...</td>\n",
              "      <td>642.0</td>\n",
              "      <td>0</td>\n",
              "      <td>35</td>\n",
              "      <td>272</td>\n",
              "      <td>0</td>\n",
              "      <td>0</td>\n",
              "      <td>0</td>\n",
              "      <td>0</td>\n",
              "      <td>2</td>\n",
              "      <td>2006</td>\n",
              "    </tr>\n",
              "    <tr>\n",
              "      <th>4</th>\n",
              "      <td>60</td>\n",
              "      <td>84.0</td>\n",
              "      <td>14260</td>\n",
              "      <td>8</td>\n",
              "      <td>5</td>\n",
              "      <td>2000</td>\n",
              "      <td>2000</td>\n",
              "      <td>350.0</td>\n",
              "      <td>655.0</td>\n",
              "      <td>0.0</td>\n",
              "      <td>...</td>\n",
              "      <td>836.0</td>\n",
              "      <td>192</td>\n",
              "      <td>84</td>\n",
              "      <td>0</td>\n",
              "      <td>0</td>\n",
              "      <td>0</td>\n",
              "      <td>0</td>\n",
              "      <td>0</td>\n",
              "      <td>12</td>\n",
              "      <td>2008</td>\n",
              "    </tr>\n",
              "    <tr>\n",
              "      <th>...</th>\n",
              "      <td>...</td>\n",
              "      <td>...</td>\n",
              "      <td>...</td>\n",
              "      <td>...</td>\n",
              "      <td>...</td>\n",
              "      <td>...</td>\n",
              "      <td>...</td>\n",
              "      <td>...</td>\n",
              "      <td>...</td>\n",
              "      <td>...</td>\n",
              "      <td>...</td>\n",
              "      <td>...</td>\n",
              "      <td>...</td>\n",
              "      <td>...</td>\n",
              "      <td>...</td>\n",
              "      <td>...</td>\n",
              "      <td>...</td>\n",
              "      <td>...</td>\n",
              "      <td>...</td>\n",
              "      <td>...</td>\n",
              "      <td>...</td>\n",
              "    </tr>\n",
              "    <tr>\n",
              "      <th>1451</th>\n",
              "      <td>20</td>\n",
              "      <td>80.0</td>\n",
              "      <td>13384</td>\n",
              "      <td>5</td>\n",
              "      <td>5</td>\n",
              "      <td>1969</td>\n",
              "      <td>1979</td>\n",
              "      <td>194.0</td>\n",
              "      <td>119.0</td>\n",
              "      <td>344.0</td>\n",
              "      <td>...</td>\n",
              "      <td>336.0</td>\n",
              "      <td>160</td>\n",
              "      <td>0</td>\n",
              "      <td>0</td>\n",
              "      <td>0</td>\n",
              "      <td>0</td>\n",
              "      <td>0</td>\n",
              "      <td>0</td>\n",
              "      <td>5</td>\n",
              "      <td>2006</td>\n",
              "    </tr>\n",
              "    <tr>\n",
              "      <th>1452</th>\n",
              "      <td>160</td>\n",
              "      <td>21.0</td>\n",
              "      <td>1533</td>\n",
              "      <td>4</td>\n",
              "      <td>5</td>\n",
              "      <td>1970</td>\n",
              "      <td>1970</td>\n",
              "      <td>0.0</td>\n",
              "      <td>408.0</td>\n",
              "      <td>0.0</td>\n",
              "      <td>...</td>\n",
              "      <td>286.0</td>\n",
              "      <td>0</td>\n",
              "      <td>0</td>\n",
              "      <td>0</td>\n",
              "      <td>0</td>\n",
              "      <td>0</td>\n",
              "      <td>0</td>\n",
              "      <td>0</td>\n",
              "      <td>12</td>\n",
              "      <td>2006</td>\n",
              "    </tr>\n",
              "    <tr>\n",
              "      <th>1455</th>\n",
              "      <td>160</td>\n",
              "      <td>21.0</td>\n",
              "      <td>1894</td>\n",
              "      <td>4</td>\n",
              "      <td>5</td>\n",
              "      <td>1970</td>\n",
              "      <td>1970</td>\n",
              "      <td>0.0</td>\n",
              "      <td>252.0</td>\n",
              "      <td>0.0</td>\n",
              "      <td>...</td>\n",
              "      <td>286.0</td>\n",
              "      <td>0</td>\n",
              "      <td>24</td>\n",
              "      <td>0</td>\n",
              "      <td>0</td>\n",
              "      <td>0</td>\n",
              "      <td>0</td>\n",
              "      <td>0</td>\n",
              "      <td>4</td>\n",
              "      <td>2006</td>\n",
              "    </tr>\n",
              "    <tr>\n",
              "      <th>1456</th>\n",
              "      <td>20</td>\n",
              "      <td>160.0</td>\n",
              "      <td>20000</td>\n",
              "      <td>5</td>\n",
              "      <td>7</td>\n",
              "      <td>1960</td>\n",
              "      <td>1996</td>\n",
              "      <td>0.0</td>\n",
              "      <td>1224.0</td>\n",
              "      <td>0.0</td>\n",
              "      <td>...</td>\n",
              "      <td>576.0</td>\n",
              "      <td>474</td>\n",
              "      <td>0</td>\n",
              "      <td>0</td>\n",
              "      <td>0</td>\n",
              "      <td>0</td>\n",
              "      <td>0</td>\n",
              "      <td>0</td>\n",
              "      <td>9</td>\n",
              "      <td>2006</td>\n",
              "    </tr>\n",
              "    <tr>\n",
              "      <th>1458</th>\n",
              "      <td>60</td>\n",
              "      <td>74.0</td>\n",
              "      <td>9627</td>\n",
              "      <td>7</td>\n",
              "      <td>5</td>\n",
              "      <td>1993</td>\n",
              "      <td>1994</td>\n",
              "      <td>94.0</td>\n",
              "      <td>758.0</td>\n",
              "      <td>0.0</td>\n",
              "      <td>...</td>\n",
              "      <td>650.0</td>\n",
              "      <td>190</td>\n",
              "      <td>48</td>\n",
              "      <td>0</td>\n",
              "      <td>0</td>\n",
              "      <td>0</td>\n",
              "      <td>0</td>\n",
              "      <td>0</td>\n",
              "      <td>11</td>\n",
              "      <td>2006</td>\n",
              "    </tr>\n",
              "  </tbody>\n",
              "</table>\n",
              "<p>2680 rows × 36 columns</p>\n",
              "</div>"
            ],
            "text/plain": [
              "      MSSubClass  LotFrontage  LotArea  OverallQual  OverallCond  YearBuilt  \\\n",
              "0             60         65.0     8450            7            5       2003   \n",
              "1             20         80.0     9600            6            8       1976   \n",
              "2             60         68.0    11250            7            5       2001   \n",
              "3             70         60.0     9550            7            5       1915   \n",
              "4             60         84.0    14260            8            5       2000   \n",
              "...          ...          ...      ...          ...          ...        ...   \n",
              "1451          20         80.0    13384            5            5       1969   \n",
              "1452         160         21.0     1533            4            5       1970   \n",
              "1455         160         21.0     1894            4            5       1970   \n",
              "1456          20        160.0    20000            5            7       1960   \n",
              "1458          60         74.0     9627            7            5       1993   \n",
              "\n",
              "      YearRemodAdd  MasVnrArea  BsmtFinSF1  BsmtFinSF2  ...  GarageArea  \\\n",
              "0             2003       196.0       706.0         0.0  ...       548.0   \n",
              "1             1976         0.0       978.0         0.0  ...       460.0   \n",
              "2             2002       162.0       486.0         0.0  ...       608.0   \n",
              "3             1970         0.0       216.0         0.0  ...       642.0   \n",
              "4             2000       350.0       655.0         0.0  ...       836.0   \n",
              "...            ...         ...         ...         ...  ...         ...   \n",
              "1451          1979       194.0       119.0       344.0  ...       336.0   \n",
              "1452          1970         0.0       408.0         0.0  ...       286.0   \n",
              "1455          1970         0.0       252.0         0.0  ...       286.0   \n",
              "1456          1996         0.0      1224.0         0.0  ...       576.0   \n",
              "1458          1994        94.0       758.0         0.0  ...       650.0   \n",
              "\n",
              "      WoodDeckSF  OpenPorchSF  EnclosedPorch  3SsnPorch  ScreenPorch  \\\n",
              "0              0           61              0          0            0   \n",
              "1            298            0              0          0            0   \n",
              "2              0           42              0          0            0   \n",
              "3              0           35            272          0            0   \n",
              "4            192           84              0          0            0   \n",
              "...          ...          ...            ...        ...          ...   \n",
              "1451         160            0              0          0            0   \n",
              "1452           0            0              0          0            0   \n",
              "1455           0           24              0          0            0   \n",
              "1456         474            0              0          0            0   \n",
              "1458         190           48              0          0            0   \n",
              "\n",
              "      PoolArea  MiscVal  MoSold  YrSold  \n",
              "0            0        0       2    2008  \n",
              "1            0        0       5    2007  \n",
              "2            0        0       9    2008  \n",
              "3            0        0       2    2006  \n",
              "4            0        0      12    2008  \n",
              "...        ...      ...     ...     ...  \n",
              "1451         0        0       5    2006  \n",
              "1452         0        0      12    2006  \n",
              "1455         0        0       4    2006  \n",
              "1456         0        0       9    2006  \n",
              "1458         0        0      11    2006  \n",
              "\n",
              "[2680 rows x 36 columns]"
            ]
          },
          "execution_count": 38,
          "metadata": {},
          "output_type": "execute_result"
        }
      ],
      "source": [
        "numeric_data"
      ]
    },
    {
      "cell_type": "code",
      "execution_count": 39,
      "metadata": {},
      "outputs": [
        {
          "name": "stdout",
          "output_type": "stream",
          "text": [
            "Combined data shape: (2680, 79)\n",
            "Numeric data shape: (2680, 36)\n",
            "Categorical shape: (2680, 43)\n"
          ]
        }
      ],
      "source": [
        "print(\"Combined data shape:\", combined_data.shape)\n",
        "print(\"Numeric data shape:\", numeric_data.shape)\n",
        "print(\"Categorical shape:\", categorical_data.shape)"
      ]
    },
    {
      "cell_type": "code",
      "execution_count": 40,
      "metadata": {},
      "outputs": [],
      "source": [
        "X_numeric = np.array(numeric_data)"
      ]
    },
    {
      "cell_type": "code",
      "execution_count": 42,
      "metadata": {},
      "outputs": [],
      "source": [
        "# Subtract the mean of each column in X_numeric from the column values\n",
        "X_numeric_scaled = (X_numeric - np.mean(X_numeric, axis=0))/np.std(X_numeric, axis=0)"
      ]
    },
    {
      "cell_type": "code",
      "execution_count": 49,
      "metadata": {},
      "outputs": [],
      "source": [
        "X = np.concatenate([X_numeric_scaled, X_category], axis=1)"
      ]
    },
    {
      "cell_type": "code",
      "execution_count": 50,
      "metadata": {},
      "outputs": [
        {
          "data": {
            "text/plain": [
              "(2680, 79)"
            ]
          },
          "execution_count": 50,
          "metadata": {},
          "output_type": "execute_result"
        }
      ],
      "source": [
        "X.shape"
      ]
    },
    {
      "cell_type": "markdown",
      "metadata": {},
      "source": [
        "### Plot a histogram for every column in X"
      ]
    },
    {
      "cell_type": "code",
      "execution_count": null,
      "metadata": {},
      "outputs": [],
      "source": [
        "# Plot a histogram for every column in X\n",
        "for i, col in enumerate(numeric_data.columns.tolist() + categorical_data.columns.tolist()):\n",
        "    plt.figure(figsize=(6, 4))\n",
        "    plt.hist(X[:, i], bins=30, edgecolor='black')\n",
        "    plt.xlabel(col)\n",
        "    plt.ylabel('Frequency')\n",
        "    plt.title(f'Histogram of {col}')\n",
        "    plt.show()\n",
        "\n"
      ]
    },
    {
      "cell_type": "markdown",
      "metadata": {},
      "source": [
        "#### End of Plot a histogram for every column in X"
      ]
    },
    {
      "cell_type": "code",
      "execution_count": null,
      "metadata": {},
      "outputs": [],
      "source": []
    },
    {
      "cell_type": "code",
      "execution_count": null,
      "metadata": {},
      "outputs": [
        {
          "data": {
            "text/plain": [
              "(2680, 79)"
            ]
          },
          "execution_count": 53,
          "metadata": {},
          "output_type": "execute_result"
        }
      ],
      "source": [
        "# Combine train and test datasets for feature engineering and preprocessing.\n",
        "# - The first line concatenates the training data (up to and including 'SalePrice') and the test data.\n",
        "# - This is useful for applying transformations (like encoding or imputing missing values) consistently across both datasets.\n",
        "combined_data = pd.concat([train_data.loc[:, : 'SalePrice'], test_data])\n",
        "\n",
        "# Align columns to match the test_data structure.\n",
        "# - This ensures that combined_data has the same columns as test_data, which is important for making predictions later.\n",
        "combined_data = combined_data[test_data.columns]\n",
        "\n"
      ]
    },
    {
      "cell_type": "code",
      "execution_count": 58,
      "metadata": {},
      "outputs": [
        {
          "name": "stdout",
          "output_type": "stream",
          "text": [
            "X_train shape: (1460, 79)\n",
            "X_test shape: (1220, 79)\n"
          ]
        }
      ],
      "source": [
        "X_train = X[:train_data.shape[0], :]\n",
        "X_test  = X[train_data.shape[0]:, :]\n",
        "print(\"X_train shape:\", X_train.shape)\n",
        "print(\"X_test shape:\", X_test.shape)"
      ]
    },
    {
      "cell_type": "code",
      "execution_count": 60,
      "metadata": {},
      "outputs": [],
      "source": [
        "y_train = train_data[\"SalePrice\"].values"
      ]
    },
    {
      "cell_type": "code",
      "execution_count": 64,
      "metadata": {},
      "outputs": [
        {
          "name": "stdout",
          "output_type": "stream",
          "text": [
            "Number of null values in y_train: 0\n"
          ]
        }
      ],
      "source": [
        "print(\"Number of null values in y_train:\", np.isnan(y_train).sum())"
      ]
    },
    {
      "cell_type": "code",
      "execution_count": null,
      "metadata": {},
      "outputs": [],
      "source": []
    },
    {
      "cell_type": "markdown",
      "metadata": {
        "id": "nNeaQJC3UVPw"
      },
      "source": [
        "Neighborhood is a location attribute that represents the nearby place name and can be converted to latitude and longitude."
      ]
    },
    {
      "cell_type": "code",
      "execution_count": null,
      "metadata": {
        "colab": {
          "base_uri": "https://localhost:8080/",
          "height": 241
        },
        "id": "iUzoosbkUVPw",
        "outputId": "8f9e532d-c213-4058-e4ff-755a28225b06"
      },
      "outputs": [],
      "source": [
        "# Map latitude values to each Neighborhood in combined_data.\n",
        "# Explanation:\n",
        "# - combined_data[\"Neighborhood\"] contains the neighborhood name for each house.\n",
        "# - .replace({...}) maps each neighborhood to its corresponding latitude value.\n",
        "# - This creates a new column \"latitude\" with the latitude for each house based on its neighborhood.\n",
        "combined_data[\"latitude\"] = combined_data.Neighborhood.replace(\n",
        "                                               {'Blmngtn' : 42.062806,\n",
        "                                                'Blueste' : 42.009408,\n",
        "                                                'BrDale' : 42.052500,\n",
        "                                                'BrkSide': 42.033590,\n",
        "                                                'ClearCr': 42.025425,\n",
        "                                                'CollgCr': 42.021051,\n",
        "                                                'Crawfor': 42.025949,\n",
        "                                                'Edwards': 42.022800,\n",
        "                                                'Gilbert': 42.027885,\n",
        "                                                'GrnHill': 42.000854,\n",
        "                                                'IDOTRR' : 42.019208,\n",
        "                                                'Landmrk': 42.044777,\n",
        "                                                'MeadowV': 41.991866,\n",
        "                                                'Mitchel': 42.031307,\n",
        "                                                'NAmes'  : 42.042966,\n",
        "                                                'NoRidge': 42.050307,\n",
        "                                                'NPkVill': 42.050207,\n",
        "                                                'NridgHt': 42.060356,\n",
        "                                                'NWAmes' : 42.051321,\n",
        "                                                'OldTown': 42.028863,\n",
        "                                                'SWISU'  : 42.017578,\n",
        "                                                'Sawyer' : 42.033611,\n",
        "                                                'SawyerW': 42.035540,\n",
        "                                                'Somerst': 42.052191,\n",
        "                                                'StoneBr': 42.060752,\n",
        "                                                'Timber' : 41.998132,\n",
        "                                                'Veenker': 42.040106})\n",
        "\n",
        "# Map longitude values to each Neighborhood in combined_data.\n",
        "# Explanation:\n",
        "# - Similar to latitude, this maps each neighborhood to its longitude value.\n",
        "# - The new column \"longitude\" contains the longitude for each house based on its neighborhood.\n",
        "combined_data[\"longitude\"] = combined_data.Neighborhood.replace(\n",
        "                                               {'Blmngtn' : -93.639963,\n",
        "                                                'Blueste' : -93.645543,\n",
        "                                                'BrDale' : -93.628821,\n",
        "                                                'BrkSide': -93.627552,\n",
        "                                                'ClearCr': -93.675741,\n",
        "                                                'CollgCr': -93.685643,\n",
        "                                                'Crawfor': -93.620215,\n",
        "                                                'Edwards': -93.663040,\n",
        "                                                'Gilbert': -93.615692,\n",
        "                                                'GrnHill': -93.643377,\n",
        "                                                'IDOTRR' : -93.623401,\n",
        "                                                'Landmrk': -93.646239,\n",
        "                                                'MeadowV': -93.602441,\n",
        "                                                'Mitchel': -93.626967,\n",
        "                                                'NAmes'  : -93.613556,\n",
        "                                                'NoRidge': -93.656045,\n",
        "                                                'NPkVill': -93.625827,\n",
        "                                                'NridgHt': -93.657107,\n",
        "                                                'NWAmes' : -93.633798,\n",
        "                                                'OldTown': -93.615497,\n",
        "                                                'SWISU'  : -93.651283,\n",
        "                                                'Sawyer' : -93.669348,\n",
        "                                                'SawyerW': -93.685131,\n",
        "                                                'Somerst': -93.643479,\n",
        "                                                'StoneBr': -93.628955,\n",
        "                                                'Timber' : -93.648335,\n",
        "                                                'Veenker': -93.657032})\n",
        "\n",
        "# Calculate the Euclidean distance from each house to the center of Ames city.\n",
        "# Explanation:\n",
        "# - Ames city center coordinates: longitude -93.63191310000002, latitude 42.0307812.\n",
        "# - For each house, subtract the city center coordinates from its longitude and latitude, square the differences, sum them, and take the square root.\n",
        "# - This gives the straight-line distance from the house to the city center, which can be useful for modeling location effects.\n",
        "combined_data[\"NeighborDistance\"] = np.sqrt(np.power((combined_data[\"longitude\"] - (-93.63191310000002)),2) + \\\n",
        "                                    np.power((combined_data[\"latitude\"] - 42.0307812),2))\n",
        "\n",
        "# Display the first 5 values of the calculated NeighborDistance for inspection.\n",
        "display(combined_data[\"NeighborDistance\"].head())\n",
        "\n",
        "# Remove the temporary longitude and latitude columns from combined_data.\n",
        "# Explanation:\n",
        "# - These columns were only needed for distance calculation and are not required for further analysis.\n",
        "combined_data.drop(['longitude', 'latitude'], axis=1, inplace=True)"
      ]
    },
    {
      "cell_type": "markdown",
      "metadata": {
        "id": "Z1Hqgz5gUVPw"
      },
      "source": [
        "Bin the following continuous features into discrete intervals to reduce the impact of extreme values and noise."
      ]
    },
    {
      "cell_type": "code",
      "execution_count": null,
      "metadata": {
        "id": "qay8DmPnUVPw"
      },
      "outputs": [],
      "source": [
        "# Bin by neighborhood (a little arbitrarily).\n",
        "# Explanation:\n",
        "# - This code creates a mapping from each neighborhood to its median SalePrice in the training data.\n",
        "# - train_data[\"SalePrice\"].groupby(train_data[\"Neighborhood\"]) groups SalePrice values by Neighborhood.\n",
        "# - .median() computes the median SalePrice for each neighborhood.\n",
        "# - .sort_values() sorts the neighborhoods by their median SalePrice in ascending order.\n",
        "# - .to_dict() converts the sorted Series to a dictionary, where keys are neighborhood names and values are the corresponding median prices.\n",
        "# - neighbor_price_map can be used for feature engineering, such as assigning a price bin or encoding neighborhoods by their typical price level.\n",
        "neighbor_price_map = train_data[\"SalePrice\"].groupby(train_data[\"Neighborhood\"]).median().sort_values().to_dict()"
      ]
    },
    {
      "cell_type": "markdown",
      "metadata": {
        "id": "DKvTbfeaUVPw"
      },
      "source": [
        "Create dictionary for binning."
      ]
    },
    {
      "cell_type": "code",
      "execution_count": null,
      "metadata": {
        "collapsed": true,
        "id": "vLoYTZ0mUVPw"
      },
      "outputs": [],
      "source": [
        "# neighbor_bin_map: Dictionary mapping each Neighborhood to a price bin (0-4).\n",
        "# Explanation:\n",
        "# - Each key is a neighborhood name, and its value is an integer bin representing the typical price level.\n",
        "# - The bins are assigned based on the median SalePrice for each neighborhood (see neighbor_price_map).\n",
        "# - Lower bin numbers correspond to lower-priced neighborhoods, higher bins to higher-priced ones.\n",
        "neighbor_bin_map = {\n",
        "    \"MeadowV\" : 0,  #  88000\n",
        "    \"IDOTRR\" : 1,   # 103000\n",
        "    \"BrDale\" : 1,   # 106000\n",
        "    \"OldTown\" : 1,  # 119000\n",
        "    \"Edwards\" : 1,  # 119500\n",
        "    \"BrkSide\" : 1,  # 124300\n",
        "    \"Sawyer\" : 1,   # 135000\n",
        "    \"Blueste\" : 1,  # 137500\n",
        "    \"SWISU\" : 2,    # 139500\n",
        "    \"NAmes\" : 2,    # 140000\n",
        "    \"NPkVill\" : 2,  # 146000\n",
        "    \"Mitchel\" : 2,  # 153500\n",
        "    \"SawyerW\" : 2,  # 179900\n",
        "    \"Gilbert\" : 2,  # 181000\n",
        "    \"NWAmes\" : 2,   # 182900\n",
        "    \"Blmngtn\" : 2,  # 191000\n",
        "    \"CollgCr\" : 2,  # 197200\n",
        "    \"ClearCr\" : 3,  # 200250\n",
        "    \"Crawfor\" : 3,  # 200624\n",
        "    \"Veenker\" : 3,  # 218000\n",
        "    \"Somerst\" : 3,  # 225500\n",
        "    \"Timber\" : 3,   # 228475\n",
        "    \"StoneBr\" : 4,  # 278000\n",
        "    \"NoRidge\" : 4,  # 290000\n",
        "    \"NridgHt\" : 4,  # 315000\n",
        "}\n",
        "\n",
        "# Map the median SalePrice for each Neighborhood to the \"NeighborPrice\" column in combined_data.\n",
        "# Explanation:\n",
        "# - neighbor_price_map: Dictionary mapping neighborhood names to their median SalePrice (from train_data).\n",
        "# - combined_data[\"Neighborhood\"].map(neighbor_price_map) assigns the median price to each record based on its neighborhood.\n",
        "# - This feature captures the typical price level for each neighborhood, useful for modeling.\n",
        "combined_data[\"NeighborPrice\"] = combined_data[\"Neighborhood\"].map(neighbor_price_map)\n",
        "\n",
        "# Map the price bin for each Neighborhood to the \"NeighborBin\" column in combined_data.\n",
        "# Explanation:\n",
        "# - neighbor_bin_map: Dictionary mapping neighborhood names to price bins (0-4).\n",
        "# - combined_data[\"Neighborhood\"].map(neighbor_bin_map) assigns the bin to each record based on its neighborhood.\n",
        "# - This feature provides a categorical representation of neighborhood price levels for downstream analysis or modeling.\n",
        "combined_data[\"NeighborBin\"] = combined_data[\"Neighborhood\"].map(neighbor_bin_map)"
      ]
    },
    {
      "cell_type": "code",
      "execution_count": null,
      "metadata": {
        "colab": {
          "base_uri": "https://localhost:8080/",
          "height": 256
        },
        "id": "BQDMsLybUVPw",
        "outputId": "55111002-bafa-43e7-d01f-2931e0282992"
      },
      "outputs": [],
      "source": [
        "# Display the first 5 rows of the combined dataset (combined_data).\n",
        "# Explanation:\n",
        "# - combined_data contains both the training and test data after preprocessing and feature engineering.\n",
        "# - .head() returns the first 5 records, which is useful for quickly inspecting the structure and values of the dataset.\n",
        "# - This helps verify that all previous steps (missing value imputation, feature engineering, encoding, etc.) have been applied correctly.\n",
        "combined_data.head()"
      ]
    },
    {
      "cell_type": "markdown",
      "metadata": {
        "id": "TCteNFZOUVPw"
      },
      "source": [
        "Ref: [juliencs : A study on Regression applied to the Ames dataset\n",
        "](https://www.kaggle.com/code/juliencs/a-study-on-regression-applied-to-the-ames-dataset)\n",
        "- Create some boolean features\n",
        "- Simplifications of existing features - Ref\n",
        "- Combinations of existing features - Ref\n",
        "- Polynomials on the top 10 existing features - Ref"
      ]
    },
    {
      "cell_type": "code",
      "execution_count": null,
      "metadata": {
        "id": "amuIIcLKUVPw"
      },
      "outputs": [],
      "source": [
        "# Get all columns in combined_data with string (object) dtype.\n",
        "# - select_dtypes(include=['object']) selects columns where the data type is 'object', typically used for categorical or text data.\n",
        "# - .columns.values returns the column names as a numpy array.\n",
        "str_columns = combined_data.select_dtypes(include=['object']).columns.values\n",
        "\n",
        "# Get all columns in combined_data with numeric dtype (excluding 'object').\n",
        "# - select_dtypes(exclude=['object']) selects columns with numeric types (int, float, etc.).\n",
        "# - .columns.values returns the column names as a numpy array.\n",
        "num_columns = combined_data.select_dtypes(exclude=['object']).columns.values"
      ]
    },
    {
      "cell_type": "code",
      "execution_count": null,
      "metadata": {
        "colab": {
          "base_uri": "https://localhost:8080/"
        },
        "id": "0Soz7dHYUVPx",
        "outputId": "73faa08d-6483-41c3-9f20-eac53b982fcf"
      },
      "outputs": [],
      "source": [
        "# str_columns contains all columns in combined_data with string (object) dtype.\n",
        "# - select_dtypes(include=['object']) selects columns where the data type is 'object', typically used for categorical or text data.\n",
        "# - .columns.values returns the column names as a numpy array.\n",
        "# - This is useful for identifying which columns need encoding or special handling during feature engineering.\n",
        "str_columns"
      ]
    },
    {
      "cell_type": "markdown",
      "metadata": {
        "id": "VFwzSAISUVPx"
      },
      "source": [
        "Create some boolean features"
      ]
    },
    {
      "cell_type": "code",
      "execution_count": null,
      "metadata": {
        "colab": {
          "base_uri": "https://localhost:8080/",
          "height": 484
        },
        "id": "kwwScCPrUVPx",
        "outputId": "3e323dc4-9af8-4c83-b269-3a788c8f9652"
      },
      "outputs": [],
      "source": [
        "# test str column\n",
        "# This block analyzes the distribution of values in a string (categorical) column of combined_data.\n",
        "column = \"SaleCondition\"  # The column to analyze (can be changed to any string column)\n",
        "count_duct = {}  # Initialize an empty dictionary to store counts for each unique value\n",
        "\n",
        "# Iterate over all unique values in the column and initialize their count to 0\n",
        "for key in set(combined_data[column]):\n",
        "    count_duct[key] = 0\n",
        "\n",
        "# Count the occurrences of each value in the column\n",
        "for m in combined_data[column].values:\n",
        "    count_duct[str(m)] = count_duct[str(m)] + 1\n",
        "\n",
        "# Sort the dictionary items by count in descending order\n",
        "count_duct = sorted(count_duct.items(), key=lambda d: d[1], reverse=True)\n",
        "\n",
        "# Print the unique values in the column, sorted by frequency\n",
        "print(np.array(count_duct)[:, 0])\n",
        "\n",
        "# Visualize the distribution of the column using a count plot\n",
        "# This helps to quickly see the frequency of each category\n",
        "sns.countplot(combined_data[column])"
      ]
    },
    {
      "cell_type": "markdown",
      "metadata": {
        "id": "VeERexqrUVPx"
      },
      "source": [
        "Create boolean features based on existing features to capture specific conditions that may influence house prices."
      ]
    },
    {
      "cell_type": "code",
      "execution_count": null,
      "metadata": {
        "id": "XeDn5imVUVPx"
      },
      "outputs": [],
      "source": [
        "# Create boolean features for common categories in several columns.\n",
        "# Explanation:\n",
        "# - For each feature, create a new column that is 1 if the condition is met, 0 otherwise.\n",
        "# - This helps simplify categorical variables and highlight important distinctions for modeling.\n",
        "\n",
        "# LotShape: Distinguish regular (\"Reg\") from irregular lot shapes.\n",
        "combined_data[\"IsRegularLotShape\"] = (combined_data[\"LotShape\"] == \"Reg\") * 1\n",
        "\n",
        "# LandContour: Distinguish level (\"Lvl\") land contour from others.\n",
        "combined_data[\"IsLandContourLvl\"] = (combined_data[\"LandContour\"] == \"Lvl\") * 1\n",
        "\n",
        "# LotConfig: Distinguish \"Inside\" lot configuration from others.\n",
        "combined_data[\"IsLotConfigInside\"] = (combined_data[\"LotConfig\"] == \"Inside\") * 1\n",
        "\n",
        "# LandSlope: Distinguish gentle (\"Gtl\") slope from others.\n",
        "combined_data[\"IsLandSlopeGentle\"] = (combined_data[\"LandSlope\"] == \"Gtl\") * 1\n",
        "\n",
        "# Condition1: Distinguish normal (\"Norm\") condition from others.\n",
        "combined_data[\"IsCondition1Norm\"] = (combined_data[\"Condition1\"] == \"Norm\") * 1\n",
        "\n",
        "# Condition2: Distinguish normal (\"Norm\") condition from others.\n",
        "combined_data[\"IsCondition2Norm\"] = (combined_data[\"Condition2\"] == \"Norm\") * 1\n",
        "\n",
        "# BldgType: Distinguish single-family (\"1Fam\") building type from others.\n",
        "combined_data[\"IsBldgType1Fam\"] = (combined_data[\"BldgType\"] == \"1Fam\") * 1\n",
        "\n",
        "# RoofStyle: Distinguish gable (\"Gable\") roof style from others.\n",
        "combined_data[\"IsRoofStyleGable\"] = (combined_data[\"RoofStyle\"] == \"Gable\") * 1\n",
        "\n",
        "# RoofMatl: Distinguish composition shingle (\"CompShg\") roof material from others.\n",
        "combined_data[\"IsRoofMatlCompShg\"] = (combined_data[\"RoofMatl\"] == \"CompShg\") * 1\n",
        "\n",
        "# Heating: Distinguish gas forced air (\"GasA\") heating from others.\n",
        "combined_data[\"IsGasAHeating\"] = (combined_data[\"Heating\"] == \"GasA\") * 1\n",
        "\n",
        "# GarageFinish: Distinguish finished (\"Fin\") garage from others.\n",
        "combined_data[\"IsGarageFinished\"] = (combined_data[\"GarageFinish\"] == \"Fin\") * 1\n",
        "\n",
        "# PavedDrive: Distinguish paved drive (\"Y\") from others.\n",
        "combined_data[\"IsPavedDrive\"] = (combined_data[\"PavedDrive\"] == \"Y\") * 1\n",
        "\n",
        "# SaleType: Distinguish warranty deed (\"WD\") sale type from others.\n",
        "combined_data[\"IsSaleTypeWD\"] = (combined_data[\"SaleType\"] == \"WD\") * 1\n",
        "\n",
        "# SaleCondition: Distinguish normal (\"Normal\") sale condition from others.\n",
        "combined_data[\"IsSaleConditionNormal\"] = (combined_data[\"SaleCondition\"] == \"Normal\") * 1\n",
        "\n",
        "# The only interesting \"misc. feature\" is the presence of a shed.\n",
        "# Explanation:\n",
        "# - combined_data[\"MiscFeature\"] contains miscellaneous features for each house.\n",
        "# - This line creates a new boolean feature \"HasShed\" that is 1 if MiscFeature is \"Shed\", otherwise 0.\n",
        "# - Useful for modeling, as sheds may add value or utility to a property.\n",
        "combined_data[\"HasShed\"] = (combined_data[\"MiscFeature\"] == \"Shed\") * 1.\n",
        "\n",
        "# Was this house sold in the year it was built?\n",
        "# Explanation:\n",
        "# - Checks if the house was sold in the same year it was built.\n",
        "# - \"IsVeryNewHouse\" is 1 if YearBuilt equals YrSold, otherwise 0.\n",
        "# - Indicates properties that were sold as new constructions.\n",
        "combined_data[\"IsVeryNewHouse\"] = (combined_data[\"YearBuilt\"] == combined_data[\"YrSold\"]) * 1\n",
        "\n",
        "# Create boolean features for the presence/absence of certain house attributes.\n",
        "# Explanation:\n",
        "# - Each feature below is 1 if the corresponding area is zero (i.e., the house does NOT have that feature), otherwise 0.\n",
        "# - These features help the model distinguish houses with/without these amenities.\n",
        "\n",
        "combined_data[\"Has2ndFloor\"] = (combined_data[\"2ndFlrSF\"] == 0) * 1      # No second floor\n",
        "combined_data[\"HasMasVnr\"] = (combined_data[\"MasVnrArea\"] == 0) * 1      # No masonry veneer\n",
        "combined_data[\"HasWoodDeck\"] = (combined_data[\"WoodDeckSF\"] == 0) * 1    # No wood deck\n",
        "combined_data[\"HasOpenPorch\"] = (combined_data[\"OpenPorchSF\"] == 0) * 1  # No open porch\n",
        "combined_data[\"HasEnclosedPorch\"] = (combined_data[\"EnclosedPorch\"] == 0) * 1  # No enclosed porch\n",
        "combined_data[\"Has3SsnPorch\"] = (combined_data[\"3SsnPorch\"] == 0) * 1    # No 3-season porch\n",
        "combined_data[\"HasScreenPorch\"] = (combined_data[\"ScreenPorch\"] == 0) * 1  # No screened porch"
      ]
    },
    {
      "cell_type": "markdown",
      "metadata": {
        "id": "9AjGhsGeUVPx"
      },
      "source": [
        "Adding new features based on existing ones to capture specific conditions that may influence house prices."
      ]
    },
    {
      "cell_type": "code",
      "execution_count": null,
      "metadata": {
        "id": "TCF3mOt-UVPx"
      },
      "outputs": [],
      "source": [
        "# 2.Simplifications of existing features\n",
        "\n",
        "# Simplify the 'OverallQual' (overall material and finish quality) feature into three categories:\n",
        "# - 1: bad (original values 1, 2, 3)\n",
        "# - 2: average (original values 4, 5, 6)\n",
        "# - 3: good (original values 7, 8, 9, 10)\n",
        "# This reduces the granularity of the feature, making it easier for models to capture broad quality distinctions.\n",
        "combined_data[\"SimplOverallQual\"] = combined_data.OverallQual.replace(\n",
        "    {1 : 1, 2 : 1, 3 : 1,      # bad\n",
        "     4 : 2, 5 : 2, 6 : 2,      # average\n",
        "     7 : 3, 8 : 3, 9 : 3, 10 : 3 # good\n",
        "    })\n",
        "\n",
        "# Simplify the 'OverallCond' (overall condition rating) feature into three categories:\n",
        "# - 1: bad (original values 1, 2, 3)\n",
        "# - 2: average (original values 4, 5, 6)\n",
        "# - 3: good (original values 7, 8, 9, 10)\n",
        "# This helps to reduce noise and focus on major condition differences for modeling.\n",
        "combined_data[\"SimplOverallCond\"] = combined_data.OverallCond.replace(\n",
        "    {1 : 1, 2 : 1, 3 : 1,      # bad\n",
        "     4 : 2, 5 : 2, 6 : 2,      # average\n",
        "     7 : 3, 8 : 3, 9 : 3, 10 : 3 # good\n",
        "    })"
      ]
    },
    {
      "cell_type": "markdown",
      "metadata": {
        "id": "fBDbnrd8UVPx"
      },
      "source": [
        "Combinations of existing features"
      ]
    },
    {
      "cell_type": "code",
      "execution_count": null,
      "metadata": {
        "id": "N_Vt-Y1MUVPx"
      },
      "outputs": [],
      "source": [
        "# Overall quality of the house\n",
        "# - Multiplies 'OverallQual' (overall material/finish quality) by 'OverallCond' (overall condition rating).\n",
        "# - Creates a composite score capturing both quality and condition.\n",
        "combined_data[\"OverallGrade\"] = combined_data[\"OverallQual\"] * combined_data[\"OverallCond\"]\n",
        "\n",
        "# Overall quality of the garage\n",
        "# - Multiplies encoded garage quality ('GarageQual_') by garage condition ('GarageCond').\n",
        "# - Highlights garages that are both high quality and well maintained.\n",
        "combined_data[\"GarageGrade\"] = combined_data[\"GarageQual_\"] * combined_data[\"GarageCond\"]\n",
        "\n",
        "# Overall quality of the exterior\n",
        "# - Multiplies encoded exterior quality ('ExterQual_') by exterior condition ('ExterCond').\n",
        "# - Captures the combined effect of exterior materials and their condition.\n",
        "combined_data[\"ExterGrade\"] = combined_data[\"ExterQual_\"] * combined_data[\"ExterCond\"]\n",
        "\n",
        "# Overall kitchen score\n",
        "# - Multiplies number of kitchens above ground ('KitchenAbvGr') by encoded kitchen quality ('KitchenQual_').\n",
        "# - Useful for distinguishing homes with multiple kitchens or higher kitchen quality.\n",
        "combined_data[\"KitchenScore\"] = combined_data[\"KitchenAbvGr\"] * combined_data[\"KitchenQual_\"]\n",
        "\n",
        "# Overall fireplace score\n",
        "# - Multiplies number of fireplaces ('Fireplaces') by encoded fireplace quality ('FireplaceQu_').\n",
        "# - Highlights homes with more and/or better fireplaces.\n",
        "combined_data[\"FireplaceScore\"] = combined_data[\"Fireplaces\"] * combined_data[\"FireplaceQu_\"]\n",
        "\n",
        "# Overall garage score\n",
        "# - Multiplies garage area ('GarageArea') by encoded garage quality ('GarageQual_').\n",
        "# - Captures both the size and quality of the garage.\n",
        "combined_data[\"GarageScore\"] = combined_data[\"GarageArea\"] * combined_data[\"GarageQual_\"]\n",
        "\n",
        "# Overall pool score\n",
        "# - Multiplies pool area ('PoolArea') by encoded pool quality ('PoolQC_').\n",
        "# - Useful for distinguishing homes with larger and/or higher quality pools.\n",
        "combined_data[\"PoolScore\"] = combined_data[\"PoolArea\"] * combined_data[\"PoolQC_\"]\n",
        "\n",
        "# Total number of bathrooms\n",
        "# - Sums basement full baths, half baths (weighted by 0.5), full baths, and half baths.\n",
        "# - Provides a single feature representing total bathroom count.\n",
        "combined_data[\"TotalBath\"] = combined_data[\"BsmtFullBath\"] + (0.5 * combined_data[\"BsmtHalfBath\"]) + \\\n",
        "combined_data[\"FullBath\"] + (0.5 * combined_data[\"HalfBath\"])\n",
        "\n",
        "# Total yard area in square feet\n",
        "# - Sums open porch, enclosed porch, 3-season porch, and screen porch areas.\n",
        "# - Captures total outdoor/porch space.\n",
        "combined_data[\"TotalPorchSF\"] = combined_data[\"OpenPorchSF\"] + combined_data[\"EnclosedPorch\"] +\\\n",
        "                                combined_data[\"3SsnPorch\"] + combined_data[\"ScreenPorch\"]\n",
        "\n",
        "# Total SF for house (living, basement, porch, pool)\n",
        "# - Sums living area, basement area, porch area, wood deck, and pool area.\n",
        "# - Provides a comprehensive measure of total usable space.\n",
        "combined_data[\"AllSF\"] = combined_data[\"GrLivArea\"] + combined_data[\"TotalBsmtSF\"] + \\\n",
        "                         combined_data[\"TotalPorchSF\"] + combined_data[\"WoodDeckSF\"] + \\\n",
        "                         combined_data[\"PoolArea\"]\n",
        "\n",
        "# House completed before sale or not\n",
        "# - Encodes whether the house was bought off-plan ('Partial' SaleCondition = 1, others = 0).\n",
        "# - Useful for identifying new builds sold before completion.\n",
        "combined_data[\"BoughtOffPlan\"] = combined_data.SaleCondition.replace(\n",
        "    {\"Abnorml\" : 0, \"Alloca\" : 0, \"AdjLand\" : 0, \"Family\" : 0, \"Normal\" : 0, \"Partial\" : 1})"
      ]
    },
    {
      "cell_type": "code",
      "execution_count": null,
      "metadata": {
        "id": "_kWDPrP9UVPx"
      },
      "outputs": [],
      "source": [
        "# 4.Polynomials on the top n existing features\n",
        "# Explanation:\n",
        "# - This section is intended for generating polynomial features (e.g., squares, cubes, interactions) from the top n features.\n",
        "# - Polynomial features can help capture non-linear relationships in the data and improve model performance.\n",
        "# - The code below prepares the training data for this purpose.\n",
        "\n",
        "train_data_new = combined_data.iloc[:train_length,:]  # Select the first train_length rows from combined_data as the new training set.\n",
        "# Add SalePrice column\n",
        "train_data_new['SalePrice'] = train_data['SalePrice']  # Assign the SalePrice from train_data to train_data_new for supervised learning."
      ]
    },
    {
      "cell_type": "code",
      "execution_count": null,
      "metadata": {},
      "outputs": [],
      "source": []
    },
    {
      "cell_type": "markdown",
      "metadata": {
        "id": "qCn7Q6nQUVPx"
      },
      "source": [
        "## Final Data Preparation\n",
        "\n",
        "To optimize model performance, we calculate the correlation matrix and select the top 20 numerical features most strongly correlated with SalePrice. \n",
        "\n",
        "Focusing on these features helps reduce noise and ensures the model leverages the most predictive variables for house price estimation.\n"
      ]
    },
    {
      "cell_type": "code",
      "execution_count": null,
      "metadata": {
        "colab": {
          "base_uri": "https://localhost:8080/",
          "height": 805
        },
        "id": "5pTk8PPUUVPx",
        "outputId": "3ae61c6d-7235-4bea-d297-7a792d845141"
      },
      "outputs": [],
      "source": [
        "# Select only numeric columns from train_data_new and drop the 'Id' column.\n",
        "# Explanation:\n",
        "# - train_data_new.iloc[:train_length] selects the first train_length rows (the training set).\n",
        "# - .select_dtypes(exclude=['object']) keeps only columns with numeric types (int, float).\n",
        "# - .drop(['Id'], axis=1) removes the 'Id' column, which is just an identifier and not useful for correlation analysis.\n",
        "data = train_data_new.iloc[:train_length].select_dtypes(exclude=['object']).drop(['Id'], axis=1)\n",
        "\n",
        "# Create the correlation matrix for all numeric features.\n",
        "# Explanation:\n",
        "# - .corr() computes pairwise Pearson correlation coefficients between all numeric columns.\n",
        "correlation_matrix = data.corr()\n",
        "\n",
        "# Select the top 20 features most correlated with 'SalePrice'.\n",
        "# Explanation:\n",
        "# - correlation_matrix['SalePrice'].abs() gets the absolute correlation values with 'SalePrice'.\n",
        "# - .nlargest(21) selects the top 21 (including 'SalePrice' itself).\n",
        "# - .index gets the names of these features.\n",
        "top_20_features = correlation_matrix['SalePrice'].abs().nlargest(21).index\n",
        "\n",
        "# Plot the correlation matrix for the top 20 correlated features.\n",
        "# Explanation:\n",
        "# - plt.figure(figsize=(12, 8)) sets the plot size.\n",
        "# - sns.heatmap() visualizes the correlation matrix for the selected features.\n",
        "# - annot=True shows the correlation values in each cell.\n",
        "# - cmap='coolwarm' sets the color map.\n",
        "# - fmt=\".2f\" formats the numbers to 2 decimal places.\n",
        "# - plt.title() adds a title to the plot.\n",
        "# - plt.show() displays the plot.\n",
        "plt.figure(figsize=(12, 8))\n",
        "sns.heatmap(correlation_matrix.loc[top_20_features, top_20_features], annot=True, cmap='coolwarm', fmt=\".2f\")\n",
        "plt.title(\"Top 20 Correlated Features with SalePrice\")\n",
        "plt.show()"
      ]
    },
    {
      "cell_type": "code",
      "execution_count": null,
      "metadata": {
        "colab": {
          "base_uri": "https://localhost:8080/"
        },
        "id": "3FnBr4u4UVPx",
        "outputId": "c04cb152-cb0a-421e-9e64-06ce6bd0de5c"
      },
      "outputs": [],
      "source": [
        "# Select only the columns in top_20_features from the data DataFrame.\n",
        "# Explanation:\n",
        "# - data[top_20_features] filters the DataFrame to keep only the columns listed in top_20_features.\n",
        "# - top_20_features contains the names of the 20 features most correlated with SalePrice, plus SalePrice itself.\n",
        "# - This step is useful for focusing analysis or modeling on the most important features, reducing dimensionality and potential noise.\n",
        "data = data[top_20_features]\n",
        "\n",
        "# Print the names of the columns in the filtered data DataFrame.\n",
        "# Explanation:\n",
        "# - print(data.columns) displays the column names after filtering, allowing you to verify which features are included.\n",
        "# - This is helpful for debugging and confirming that only the desired columns are present.\n",
        "print(data.columns)"
      ]
    },
    {
      "cell_type": "markdown",
      "metadata": {
        "id": "JOY_LAkhUVPx"
      },
      "source": [
        "## Model Training and Evaluation"
      ]
    },
    {
      "cell_type": "markdown",
      "metadata": {
        "id": "boSNYUFiUVPx"
      },
      "source": [
        "We will use linear regression as the baseline model to evaluate the performance of the features we have engineered."
      ]
    },
    {
      "cell_type": "code",
      "execution_count": null,
      "metadata": {
        "colab": {
          "base_uri": "https://localhost:8080/",
          "height": 91
        },
        "id": "Hy5b3_BUUVPx",
        "outputId": "5bad6e9f-80c3-41b4-a4fd-76b58b96332f",
        "scrolled": true
      },
      "outputs": [],
      "source": [
        "# Import necessary modules for modeling.\n",
        "# from xgboost import XGBRegressor  # (commented out, not used here)\n",
        "from sklearn.linear_model import LinearRegression\n",
        "from sklearn.model_selection import train_test_split\n",
        "\n",
        "# Prepare target and features for training.\n",
        "# - train_Y: The target variable (SalePrice) from the filtered data.\n",
        "# - data.drop(['SalePrice'], axis=1, inplace=True): Remove SalePrice from features to avoid data leakage.\n",
        "train_Y = data['SalePrice']\n",
        "train_Id = combined_data.iloc[:train_length, 0]\n",
        "test_Id = combined_data.iloc[train_length:, 0]\n",
        "\n",
        "data.drop(['SalePrice'], axis=1, inplace=True)\n",
        "\n",
        "# Split the data into training and validation sets.\n",
        "# - train_test_split: Randomly splits the data into train and test sets (80% train, 20% test).\n",
        "# - random_state=42 ensures reproducibility.\n",
        "train_X, test_X, train_Y, test_Y = train_test_split(data, train_Y, test_size=0.2, random_state=42)\n",
        "\n",
        "# Instantiate and fit a linear regression model.\n",
        "# - regressor: LinearRegression model object.\n",
        "# - regressor.fit(train_X, train_Y): Train the model using training features and target.\n",
        "regressor = LinearRegression()\n",
        "regressor.fit(train_X, train_Y)\n"
      ]
    },
    {
      "cell_type": "markdown",
      "metadata": {
        "id": "V17OQWi-UVPx"
      },
      "source": [
        "Calculate and display model performance metrics such as mean absolute error (MAE) and root mean squared error (RMSE) to assess the accuracy of the linear regression model on the training data."
      ]
    },
    {
      "cell_type": "code",
      "execution_count": null,
      "metadata": {
        "colab": {
          "base_uri": "https://localhost:8080/"
        },
        "id": "1oj4g9hyUVPy",
        "outputId": "39d14355-bb2e-4fb1-8593-ce0aa8549be7"
      },
      "outputs": [],
      "source": [
        "# Import mean_squared_error from scikit-learn to evaluate regression performance.\n",
        "# Explanation:\n",
        "# - mean_squared_error computes the average squared difference between predicted and actual values.\n",
        "# - It is a common metric for regression tasks, indicating how close predictions are to true values.\n",
        "\n",
        "results = {}\n",
        "\n",
        "from sklearn.metrics import mean_squared_error, mean_absolute_error, root_mean_squared_error\n",
        "\n",
        "# Use the trained regressor to predict SalePrice values for the test set.\n",
        "# - test_X: Features for the validation/test split.\n",
        "# - regressor.predict(test_X): Generates predicted SalePrice values.\n",
        "test_Y_pred = regressor.predict(test_X)\n",
        "\n",
        "# Calculate the mean squared error between actual and predicted SalePrice values.\n",
        "# - mean_squared_error(test_Y, test_Y_pred): Compares true SalePrice (test_Y) to predictions.\n",
        "# - Lower MSE indicates better model performance.\n",
        "mse = mean_squared_error(test_Y, test_Y_pred)\n",
        "mae = mean_absolute_error(test_Y, test_Y_pred)\n",
        "rmse = root_mean_squared_error(test_Y, test_Y_pred)\n",
        "results['LinearRegression'] = rmse\n",
        "# Print the mean squared error to assess model accuracy.\n",
        "print(f\"Mean Squared Error: {mse}\")\n",
        "print(f\"Mean Absolute Error: {mae}\")\n",
        "print(f\"Root Mean Squared Error: {rmse}\")"
      ]
    },
    {
      "cell_type": "markdown",
      "metadata": {
        "id": "zNV3qTp9UVPy"
      },
      "source": [
        "Plot the true vs predicted SalePrice to visualize model performance."
      ]
    },
    {
      "cell_type": "code",
      "execution_count": null,
      "metadata": {
        "colab": {
          "base_uri": "https://localhost:8080/",
          "height": 564
        },
        "id": "cBZDrT8JUVPy",
        "outputId": "afc135aa-c16b-4b7a-d3f7-6214906f0aba"
      },
      "outputs": [],
      "source": [
        "import matplotlib.pyplot as plt\n",
        "\n",
        "# Plot predicted vs actual SalePrice values\n",
        "plt.figure(figsize=(8, 6))\n",
        "plt.scatter(test_Y, test_Y_pred, alpha=0.5)\n",
        "plt.xlabel(\"Actual SalePrice\")\n",
        "plt.ylabel(\"Predicted SalePrice\")\n",
        "plt.title(\"Predicted vs Actual SalePrice\")\n",
        "plt.plot([test_Y.min(), test_Y.max()], [test_Y.min(), test_Y.max()], color='red', linestyle='--')\n",
        "plt.show()"
      ]
    },
    {
      "cell_type": "markdown",
      "metadata": {
        "id": "6UwtJGv_UVPy"
      },
      "source": [
        "Save model artifacts for future use."
      ]
    },
    {
      "cell_type": "code",
      "execution_count": null,
      "metadata": {
        "id": "Uan8K19-UVPy"
      },
      "outputs": [],
      "source": [
        "import pickle\n",
        "import os\n",
        "\n",
        "# Save the trained regression model to disk using pickle.\n",
        "# Explanation:\n",
        "# - model_path specifies the directory where the model file will be saved (\"models\").\n",
        "# - If the directory does not exist, os.makedirs(model_path) creates it.\n",
        "# - The model is saved as 'linear_regression_model.pkl' inside the models directory.\n",
        "# - pickle.dump(regressor, file) serializes the trained regressor object and writes it to the file.\n",
        "# - This allows you to reload and use the trained model later without retraining.\n",
        "\n",
        "model_path=\"models\"\n",
        "if not os.path.exists(model_path):\n",
        "    os.makedirs(model_path)\n",
        "with open(os.path.join(model_path, 'linear_regression_model.pkl'), 'wb') as file:\n",
        "    pickle.dump(regressor, file)\n"
      ]
    },
    {
      "cell_type": "code",
      "execution_count": null,
      "metadata": {
        "colab": {
          "base_uri": "https://localhost:8080/"
        },
        "id": "nXnSrT4TUVPy",
        "outputId": "aa880bbc-f364-4ef2-c763-3c659e0ae802"
      },
      "outputs": [],
      "source": [
        "# Get the needed features of the model to make prediction.\n",
        "# Explanation:\n",
        "# - regressor.feature_names_in_ contains the names of the features used to train the regression model.\n",
        "# - The for loop iterates over each feature name.\n",
        "# - train_X[feature].dtype retrieves the data type of each feature in the training set.\n",
        "# - The print statement displays the feature name and its data type.\n",
        "# - This is useful for verifying which features are required for prediction and ensuring the input data matches the expected types.\n",
        "for feature in regressor.feature_names_in_:\n",
        "    print(f\"Feature: {feature}, type:{train_X[feature].dtype}\")"
      ]
    },
    {
      "cell_type": "markdown",
      "metadata": {
        "id": "uu_YQFxEUVPy"
      },
      "source": [
        "We will try xgboost for next for better performance."
      ]
    },
    {
      "cell_type": "code",
      "execution_count": null,
      "metadata": {
        "colab": {
          "base_uri": "https://localhost:8080/"
        },
        "id": "1k-kYcNUUVPy",
        "outputId": "ade2bbd6-ef4b-46f7-84b9-ee46606d87d6"
      },
      "outputs": [],
      "source": [
        "!pip install xgboost==3.0.4"
      ]
    },
    {
      "cell_type": "code",
      "execution_count": null,
      "metadata": {
        "colab": {
          "base_uri": "https://localhost:8080/"
        },
        "id": "EYTqZul1UVPy",
        "outputId": "53a4a073-aa1d-4ed6-a9df-6b982051274c"
      },
      "outputs": [],
      "source": [
        "from xgboost import XGBRegressor\n",
        "from sklearn.metrics import mean_squared_error, mean_absolute_error, root_mean_squared_error\n",
        "\n",
        "# Instantiate and fit an XGBoost regressor\n",
        "# xgb_regressor: The XGBoost regression model instance.\n",
        "# - n_estimators=200: Number of trees in the ensemble.\n",
        "# - max_depth=8: Maximum depth of each tree.\n",
        "# - random_state=42: Ensures reproducibility.\n",
        "xgb_regressor = XGBRegressor(n_estimators=200, max_depth=8, random_state=42)\n",
        "\n",
        "# train_X: Training features (top 20 correlated features, numeric only).\n",
        "# train_Y: Training target variable (SalePrice).\n",
        "xgb_regressor.fit(train_X, train_Y)\n",
        "\n",
        "# Predict and evaluate\n",
        "test_Y_pred = xgb_regressor.predict(test_X)\n",
        "mae = mean_absolute_error(test_Y, test_Y_pred)\n",
        "mse = mean_squared_error(test_Y, test_Y_pred)\n",
        "rmse = root_mean_squared_error(test_Y, test_Y_pred)\n",
        "results['XGBoost'] = rmse\n",
        "print(f\"XGBoost Mean Squared Error: {mse}\")\n",
        "print(f\"XGBoost Mean Absolute Error: {mae}\")\n",
        "print(f\"XGBoost Root Mean Squared Error: {rmse}\")"
      ]
    },
    {
      "cell_type": "markdown",
      "metadata": {
        "id": "_DxG4Ux1UVPy"
      },
      "source": [
        "Plot model predictions vs true values."
      ]
    },
    {
      "cell_type": "code",
      "execution_count": null,
      "metadata": {
        "colab": {
          "base_uri": "https://localhost:8080/",
          "height": 564
        },
        "id": "yGIuM1W5UVPy",
        "outputId": "e1848542-b9a7-4eb9-d794-3573fa72f7a3"
      },
      "outputs": [],
      "source": [
        "# Predict SalePrice for the test set using the trained XGBoost regressor\n",
        "test_Y_pred = xgb_regressor.predict(test_X)\n",
        "\n",
        "# Plot predicted vs actual SalePrice values\n",
        "plt.figure(figsize=(8, 6))\n",
        "plt.scatter(test_Y, test_Y_pred, alpha=0.6)\n",
        "plt.xlabel(\"Actual SalePrice\")\n",
        "plt.ylabel(\"Predicted SalePrice\")\n",
        "plt.title(\"Predicted vs Actual SalePrice (XGBoost)\")\n",
        "plt.plot([test_Y.min(), test_Y.max()], [test_Y.min(), test_Y.max()], 'r--')  # Diagonal line\n",
        "plt.show()"
      ]
    },
    {
      "cell_type": "markdown",
      "metadata": {
        "id": "4HA0M-p7UVPy"
      },
      "source": [
        "## Kaggle Submission"
      ]
    },
    {
      "cell_type": "markdown",
      "metadata": {
        "id": "YtQUuWHbUVPy"
      },
      "source": [
        "For kaggle submission, we will use the xgboost model to predict the SalePrice for the test set and prepare the submission file.\n",
        "We will save our data preprocessing and featured engineering on the test set and apply the same transformations as done on the training set.\n",
        "Then create a submission file in the required format and save it as a CSV file for upload to Kaggle.\n"
      ]
    },
    {
      "cell_type": "code",
      "execution_count": null,
      "metadata": {
        "id": "8WSUdlMNUVPy"
      },
      "outputs": [],
      "source": [
        "# Remove duplicate rows from train_X and test_X, reset index for clean DataFrames\n",
        "save_train = train_X.copy().drop_duplicates().reset_index(drop=True)\n",
        "save_test = combined_data.iloc[train_length:, :].reset_index(drop=True)\n",
        "\n",
        "# Add 'Id' column to save_train and save_test using train_Id and test_Id\n",
        "# - Ensures each row has a unique identifier for later reference or submission\n",
        "save_train['Id'] = train_Id.values[:len(save_train)]\n",
        "save_train['SalePrice'] = train_Y.values[:len(save_train)]  # Add target variable to train set\n",
        "save_test['Id'] = test_Id.values[:len(save_test)]           # Only Id for test set (no SalePrice)\n",
        "\n",
        "# Save processed train and test sets to CSV files for future use or submission\n",
        "save_train.to_csv(\"data/new_train.csv\", index=False)\n",
        "save_test.to_csv(\"data/new_test.csv\", index=False)\n",
        "\n",
        "# Load the saved test set from CSV for prediction or inspection\n",
        "test_df = pd.read_csv(os.path.join('data', 'new_test.csv'))\n",
        "test_df.head()  # Display first few rows for verification\n",
        "\n",
        "# Remove 'SalePrice' from top_20_features (if present) to get only feature columns\n",
        "top_20_features = top_20_features.drop('SalePrice')\n",
        "\n",
        "# Select only the top 20 features from test_df for final prediction input\n",
        "test_final = test_df[top_20_features]\n",
        "\n",
        "kaggle_predictions = xgb_regressor.predict(test_final)\n",
        "kaggle_submission = pd.DataFrame({'Id': test_df['Id'], 'SalePrice': kaggle_predictions})\n",
        "\n",
        "kaggle_submission.to_csv(os.path.join('data', 'submission.csv'), index=False)"
      ]
    },
    {
      "cell_type": "markdown",
      "metadata": {
        "id": "ver2enRiUVPy"
      },
      "source": [
        "Uncomment next line to submit to kaggle."
      ]
    },
    {
      "cell_type": "code",
      "execution_count": null,
      "metadata": {
        "id": "9VWXR5b8UVPy"
      },
      "outputs": [],
      "source": [
        "# !kaggle competitions submit -c house-prices-advanced-regression-techniques -f data/submission.csv -m \"Cat Regressor with Optuna Tuning\""
      ]
    },
    {
      "cell_type": "markdown",
      "metadata": {},
      "source": [
        "# Cat Booster with Optuna hyperparameter tuning."
      ]
    },
    {
      "cell_type": "code",
      "execution_count": null,
      "metadata": {},
      "outputs": [],
      "source": [
        "!pip install catboost optuna"
      ]
    },
    {
      "cell_type": "code",
      "execution_count": null,
      "metadata": {},
      "outputs": [],
      "source": [
        "from catboost import CatBoostRegressor\n",
        "from sklearn.metrics import mean_squared_error, mean_absolute_error, mean_squared_error\n",
        "import optuna\n",
        "from sklearn.preprocessing import StandardScaler\n",
        "\n",
        "\n",
        "def catboost_optuna_objective(trial):\n",
        "    params = {\n",
        "        \"iterations\": trial.suggest_int(\"iterations\", 200, 1000),\n",
        "        \"depth\": trial.suggest_int(\"depth\", 4, 16),\n",
        "        \"learning_rate\": trial.suggest_float(\"learning_rate\", 0.01\n",
        "                                             , 0.3),\n",
        "        \"random_seed\": 42,\n",
        "        \"verbose\": 0\n",
        "    }\n",
        "    model = CatBoostRegressor(**params)\n",
        "    model.fit(train_X, train_Y)\n",
        "    preds = model.predict(test_X)\n",
        "    mse = mean_squared_error(test_Y, preds)\n",
        "    return mse\n",
        "\n",
        "# study = optuna.create_study(direction=\"minimize\")\n",
        "# study.optimize(catboost_optuna_objective, n_trials=30, n_jobs=-1)\n",
        "\n",
        "\n",
        "best_params = {'iterations': 667, 'depth': 8, 'learning_rate': 0.04229788703557571}\n",
        "print(\"Best parameters:\", best_params)\n",
        "\n",
        "\n",
        "\n",
        "# Instantiate and fit a CatBoost regressor\n",
        "cat_regressor = CatBoostRegressor(\n",
        "    **best_params\n",
        ")\n",
        "\n",
        "\n",
        "scaler = StandardScaler()\n",
        "train_X = scaler.fit_transform(train_X)\n",
        "test_X = scaler.transform(test_X)\n",
        "cat_regressor.fit(train_X, train_Y)\n",
        "\n",
        "# Predict and evaluate\n",
        "test_Y_pred = cat_regressor.predict(test_X)\n",
        "mae = mean_absolute_error(test_Y, test_Y_pred)\n",
        "mse = mean_squared_error(test_Y, test_Y_pred)\n",
        "rmse = root_mean_squared_error(test_Y, test_Y_pred)\n",
        "results['CatBoost'] = rmse\n",
        "print(f\"CatBoost Mean Squared Error: {mse}\")\n",
        "print(f\"CatBoost Mean Absolute Error: {mae}\")\n",
        "print(f\"CatBoost Root Mean Squared Error: {rmse}\")\n",
        "# kaggle_predictions = cat_regressor.predict(test_final)\n",
        "# kaggle_submission = pd.DataFrame({'Id': test_df['Id'], 'SalePrice': kaggle_predictions})\n",
        "# print(len(kaggle_submission))\n",
        "# kaggle_submission.to_csv(os.path.join('data', 'submission.csv'), index=False)"
      ]
    },
    {
      "cell_type": "markdown",
      "metadata": {},
      "source": [
        "# Tensorflow"
      ]
    },
    {
      "cell_type": "code",
      "execution_count": null,
      "metadata": {},
      "outputs": [],
      "source": [
        "!pip install tensorflow"
      ]
    },
    {
      "cell_type": "code",
      "execution_count": null,
      "metadata": {},
      "outputs": [],
      "source": [
        "import tensorflow as tf"
      ]
    },
    {
      "cell_type": "code",
      "execution_count": null,
      "metadata": {},
      "outputs": [],
      "source": [
        "from tensorflow.keras.models import Sequential\n",
        "from tensorflow.keras.layers import Dense, BatchNormalization\n",
        "\n",
        "model = Sequential([\n",
        "    Dense(128, activation='relu', input_shape=(train_X.shape[1],)),\n",
        "    BatchNormalization(),\n",
        "    Dense(64, activation='relu'),\n",
        "    BatchNormalization(),\n",
        "    Dense(32, activation='relu'),\n",
        "    BatchNormalization(),\n",
        "    Dense(1)  # Output layer for regression\n",
        "])\n",
        "\n",
        "model.summary()"
      ]
    },
    {
      "cell_type": "markdown",
      "metadata": {},
      "source": [
        "### Standardize the features"
      ]
    },
    {
      "cell_type": "code",
      "execution_count": null,
      "metadata": {},
      "outputs": [],
      "source": [
        "import matplotlib.pyplot as plt\n",
        "\n",
        "# Plot RMSE values for each model in results\n",
        "plt.figure(figsize=(8, 5))\n",
        "plt.bar(results.keys(), results.values(), color='skyblue')\n",
        "plt.ylabel('Root Mean Squared Error (RMSE)')\n",
        "plt.title('Model Comparison: RMSE')\n",
        "plt.xticks(rotation=30)\n",
        "plt.show()"
      ]
    },
    {
      "cell_type": "code",
      "execution_count": null,
      "metadata": {},
      "outputs": [],
      "source": [
        "train_X"
      ]
    },
    {
      "cell_type": "code",
      "execution_count": null,
      "metadata": {},
      "outputs": [],
      "source": [
        "train_X = combined_data.iloc[:train_length].drop(['Id'], axis=1)\n",
        "test_X = combined_data.iloc[train_length:].drop(['Id'], axis=1)\n"
      ]
    },
    {
      "cell_type": "code",
      "execution_count": null,
      "metadata": {},
      "outputs": [],
      "source": [
        "from sklearn.decomposition import PCA\n",
        "from sklearn.preprocessing import StandardScaler\n",
        "\n",
        "# One-hot encode string (object) columns in train_X and avoid scaling them\n",
        "obj_cols = train_X.select_dtypes(include=['object']).columns\n",
        "train_X_encoded = pd.get_dummies(train_X, columns=obj_cols)\n",
        "test_X_encoded = pd.get_dummies(test_X, columns=obj_cols)\n",
        "\n",
        "# Align columns between train and test sets (fill missing columns with zeros)\n",
        "train_X_encoded, test_X_encoded = train_X_encoded.align(test_X_encoded, join='left', axis=1, fill_value=0)\n",
        "\n"
      ]
    },
    {
      "cell_type": "code",
      "execution_count": null,
      "metadata": {},
      "outputs": [],
      "source": [
        "for ty in train_X_encoded.dtypes:\n",
        "    if ty == 'object':\n",
        "        print(ty)"
      ]
    },
    {
      "cell_type": "code",
      "execution_count": null,
      "metadata": {},
      "outputs": [],
      "source": [
        "# Standardize only non-object columns (already one-hot encoded, so all are numeric now)\n",
        "scaler = StandardScaler()\n",
        "num_cols = train_X_encoded.columns  # All columns are numeric after encoding\n",
        "train_X_encoded[num_cols] = scaler.fit_transform(train_X_encoded[num_cols])\n",
        "test_X_encoded[num_cols] = scaler.transform(test_X_encoded[num_cols])\n",
        "\n"
      ]
    },
    {
      "cell_type": "code",
      "execution_count": null,
      "metadata": {},
      "outputs": [],
      "source": [
        "train_X_encoded.isnull().sum()"
      ]
    },
    {
      "cell_type": "code",
      "execution_count": null,
      "metadata": {},
      "outputs": [],
      "source": [
        "# Fit PCA (e.g., keep 95% variance)\n",
        "pca = PCA( random_state=42)\n",
        "X_pca = pca.fit_transform(train_X_encoded)\n",
        "\n",
        "print(f\"Original shape: {train_X_encoded.shape}, PCA shape: {X_pca.shape}\")"
      ]
    },
    {
      "cell_type": "code",
      "execution_count": null,
      "metadata": {},
      "outputs": [],
      "source": [
        "import matplotlib.pyplot as plt\n",
        "\n",
        "# Plot the explained variance ratio for each principal component\n",
        "plt.figure(figsize=(8, 5))\n",
        "plt.plot(np.cumsum(pca.explained_variance_ratio_), marker='o')\n",
        "plt.xlabel('Number of Principal Components')\n",
        "plt.ylabel('Cumulative Explained Variance')\n",
        "plt.title('PCA Explained Variance')\n",
        "plt.grid(True)\n",
        "plt.show()"
      ]
    },
    {
      "cell_type": "code",
      "execution_count": null,
      "metadata": {},
      "outputs": [],
      "source": [
        "from catboost import CatBoostRegressor\n",
        "from sklearn.metrics import root_mean_squared_error\n",
        "from sklearn.model_selection import train_test_split\n",
        "\n",
        "\n",
        "\n",
        "train_Y = train_data['SalePrice']\n",
        "\n",
        "# Split PCA-transformed features and target into training and validation sets\n",
        "X_pca_train, X_pca_val, train_Y_train, train_Y_val = train_test_split(X_pca, train_Y, test_size=0.2, random_state=42)\n",
        "\n",
        "def catboost_optuna_objective(trial):\n",
        "    params = {\n",
        "        \"iterations\": trial.suggest_int(\"iterations\", 200, 1000),\n",
        "        \"depth\": trial.suggest_int(\"depth\", 4, 16),\n",
        "        \"learning_rate\": trial.suggest_float(\"learning_rate\", 0.01\n",
        "                                             , 0.5),\n",
        "        \"random_seed\": 42,\n",
        "        \"verbose\": 0\n",
        "    }\n",
        "    model = CatBoostRegressor(**params)\n",
        "    model.fit(X_pca, train_Y)\n",
        "    preds = model.predict(X_pca_val)\n",
        "    mse = root_mean_squared_error(train_Y_val, preds)\n",
        "    return mse\n",
        "\n",
        "study = optuna.create_study(direction=\"minimize\")\n",
        "study.optimize(catboost_optuna_objective, n_trials=30, n_jobs=-1)\n",
        "best_params = study.best_params\n",
        "# Train CatBoost on PCA-transformed features\n",
        "\n",
        "\n",
        "\n",
        "cat_pca_regressor = CatBoostRegressor(**best_params)\n",
        "cat_pca_regressor.fit(X_pca, train_Y)\n"
      ]
    },
    {
      "cell_type": "code",
      "execution_count": null,
      "metadata": {},
      "outputs": [],
      "source": [
        "\n",
        "# Predict and evaluate\n",
        "test_X_pca = pca.transform(test_X_encoded)\n",
        "test_Y_pred = cat_pca_regressor.predict(test_X_pca)\n",
        "# Prepare test set for submission using PCA-transformed features\n",
        "submission_test_X_pca = pca.transform(test_X_encoded)\n",
        "submission_pred = cat_pca_regressor.predict(submission_test_X_pca)\n",
        "\n",
        "# Create submission DataFrame and save as CSV\n",
        "submission = pd.DataFrame({'Id': test_Id, 'SalePrice': submission_pred})\n",
        "submission.to_csv(os.path.join('data', 'submission_catboost_pca.csv'), index=False)"
      ]
    },
    {
      "cell_type": "code",
      "execution_count": null,
      "metadata": {},
      "outputs": [],
      "source": [
        "!kaggle competitions submit -c house-prices-advanced-regression-techniques -f data/submission_catboost_pca.csv -m \"Catboost PCA with Optuna Tuning\""
      ]
    }
  ],
  "metadata": {
    "anaconda-cloud": {},
    "colab": {
      "provenance": []
    },
    "kernelspec": {
      "display_name": "kaggle-house-prices",
      "language": "python",
      "name": "python3"
    },
    "language_info": {
      "codemirror_mode": {
        "name": "ipython",
        "version": 3
      },
      "file_extension": ".py",
      "mimetype": "text/x-python",
      "name": "python",
      "nbconvert_exporter": "python",
      "pygments_lexer": "ipython3",
      "version": "3.11.13"
    }
  },
  "nbformat": 4,
  "nbformat_minor": 0
}
